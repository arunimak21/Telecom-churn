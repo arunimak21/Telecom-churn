{
 "cells": [
  {
   "cell_type": "code",
   "execution_count": 1,
   "id": "6e5bc05d",
   "metadata": {},
   "outputs": [],
   "source": [
    "import pandas as pd\n",
    "import numpy as np\n",
    "import seaborn as sns\n",
    "import matplotlib.pyplot as plt"
   ]
  },
  {
   "cell_type": "code",
   "execution_count": 2,
   "id": "9e3c3da0",
   "metadata": {},
   "outputs": [],
   "source": [
    "tele=pd.read_csv(\"Churn.csv\", index_col = 0)"
   ]
  },
  {
   "cell_type": "code",
   "execution_count": 3,
   "id": "f4eb6356",
   "metadata": {},
   "outputs": [
    {
     "data": {
      "text/html": [
       "<div>\n",
       "<style scoped>\n",
       "    .dataframe tbody tr th:only-of-type {\n",
       "        vertical-align: middle;\n",
       "    }\n",
       "\n",
       "    .dataframe tbody tr th {\n",
       "        vertical-align: top;\n",
       "    }\n",
       "\n",
       "    .dataframe thead th {\n",
       "        text-align: right;\n",
       "    }\n",
       "</style>\n",
       "<table border=\"1\" class=\"dataframe\">\n",
       "  <thead>\n",
       "    <tr style=\"text-align: right;\">\n",
       "      <th></th>\n",
       "      <th>state</th>\n",
       "      <th>area.code</th>\n",
       "      <th>account.length</th>\n",
       "      <th>voice.plan</th>\n",
       "      <th>voice.messages</th>\n",
       "      <th>intl.plan</th>\n",
       "      <th>intl.mins</th>\n",
       "      <th>intl.calls</th>\n",
       "      <th>intl.charge</th>\n",
       "      <th>day.mins</th>\n",
       "      <th>day.calls</th>\n",
       "      <th>day.charge</th>\n",
       "      <th>eve.mins</th>\n",
       "      <th>eve.calls</th>\n",
       "      <th>eve.charge</th>\n",
       "      <th>night.mins</th>\n",
       "      <th>night.calls</th>\n",
       "      <th>night.charge</th>\n",
       "      <th>customer.calls</th>\n",
       "      <th>churn</th>\n",
       "    </tr>\n",
       "  </thead>\n",
       "  <tbody>\n",
       "    <tr>\n",
       "      <th>1</th>\n",
       "      <td>KS</td>\n",
       "      <td>area_code_415</td>\n",
       "      <td>128</td>\n",
       "      <td>yes</td>\n",
       "      <td>25</td>\n",
       "      <td>no</td>\n",
       "      <td>10.0</td>\n",
       "      <td>3</td>\n",
       "      <td>2.70</td>\n",
       "      <td>265.1</td>\n",
       "      <td>110</td>\n",
       "      <td>45.07</td>\n",
       "      <td>197.4</td>\n",
       "      <td>99</td>\n",
       "      <td>16.78</td>\n",
       "      <td>244.7</td>\n",
       "      <td>91</td>\n",
       "      <td>11.01</td>\n",
       "      <td>1</td>\n",
       "      <td>no</td>\n",
       "    </tr>\n",
       "    <tr>\n",
       "      <th>2</th>\n",
       "      <td>OH</td>\n",
       "      <td>area_code_415</td>\n",
       "      <td>107</td>\n",
       "      <td>yes</td>\n",
       "      <td>26</td>\n",
       "      <td>no</td>\n",
       "      <td>13.7</td>\n",
       "      <td>3</td>\n",
       "      <td>3.70</td>\n",
       "      <td>161.6</td>\n",
       "      <td>123</td>\n",
       "      <td>27.47</td>\n",
       "      <td>195.5</td>\n",
       "      <td>103</td>\n",
       "      <td>16.62</td>\n",
       "      <td>254.4</td>\n",
       "      <td>103</td>\n",
       "      <td>11.45</td>\n",
       "      <td>1</td>\n",
       "      <td>no</td>\n",
       "    </tr>\n",
       "    <tr>\n",
       "      <th>3</th>\n",
       "      <td>NJ</td>\n",
       "      <td>area_code_415</td>\n",
       "      <td>137</td>\n",
       "      <td>no</td>\n",
       "      <td>0</td>\n",
       "      <td>no</td>\n",
       "      <td>12.2</td>\n",
       "      <td>5</td>\n",
       "      <td>3.29</td>\n",
       "      <td>243.4</td>\n",
       "      <td>114</td>\n",
       "      <td>41.38</td>\n",
       "      <td>121.2</td>\n",
       "      <td>110</td>\n",
       "      <td>10.30</td>\n",
       "      <td>162.6</td>\n",
       "      <td>104</td>\n",
       "      <td>7.32</td>\n",
       "      <td>0</td>\n",
       "      <td>no</td>\n",
       "    </tr>\n",
       "    <tr>\n",
       "      <th>4</th>\n",
       "      <td>OH</td>\n",
       "      <td>area_code_408</td>\n",
       "      <td>84</td>\n",
       "      <td>no</td>\n",
       "      <td>0</td>\n",
       "      <td>yes</td>\n",
       "      <td>6.6</td>\n",
       "      <td>7</td>\n",
       "      <td>1.78</td>\n",
       "      <td>299.4</td>\n",
       "      <td>71</td>\n",
       "      <td>50.9</td>\n",
       "      <td>61.9</td>\n",
       "      <td>88</td>\n",
       "      <td>5.26</td>\n",
       "      <td>196.9</td>\n",
       "      <td>89</td>\n",
       "      <td>8.86</td>\n",
       "      <td>2</td>\n",
       "      <td>no</td>\n",
       "    </tr>\n",
       "    <tr>\n",
       "      <th>5</th>\n",
       "      <td>OK</td>\n",
       "      <td>area_code_415</td>\n",
       "      <td>75</td>\n",
       "      <td>no</td>\n",
       "      <td>0</td>\n",
       "      <td>yes</td>\n",
       "      <td>10.1</td>\n",
       "      <td>3</td>\n",
       "      <td>2.73</td>\n",
       "      <td>166.7</td>\n",
       "      <td>113</td>\n",
       "      <td>28.34</td>\n",
       "      <td>148.3</td>\n",
       "      <td>122</td>\n",
       "      <td>12.61</td>\n",
       "      <td>186.9</td>\n",
       "      <td>121</td>\n",
       "      <td>8.41</td>\n",
       "      <td>3</td>\n",
       "      <td>no</td>\n",
       "    </tr>\n",
       "  </tbody>\n",
       "</table>\n",
       "</div>"
      ],
      "text/plain": [
       "  state      area.code  account.length voice.plan  voice.messages intl.plan  \\\n",
       "1    KS  area_code_415             128        yes              25        no   \n",
       "2    OH  area_code_415             107        yes              26        no   \n",
       "3    NJ  area_code_415             137         no               0        no   \n",
       "4    OH  area_code_408              84         no               0       yes   \n",
       "5    OK  area_code_415              75         no               0       yes   \n",
       "\n",
       "   intl.mins  intl.calls  intl.charge  day.mins  day.calls day.charge  \\\n",
       "1       10.0           3         2.70     265.1        110      45.07   \n",
       "2       13.7           3         3.70     161.6        123      27.47   \n",
       "3       12.2           5         3.29     243.4        114      41.38   \n",
       "4        6.6           7         1.78     299.4         71       50.9   \n",
       "5       10.1           3         2.73     166.7        113      28.34   \n",
       "\n",
       "  eve.mins  eve.calls  eve.charge  night.mins  night.calls  night.charge  \\\n",
       "1    197.4         99       16.78       244.7           91         11.01   \n",
       "2    195.5        103       16.62       254.4          103         11.45   \n",
       "3    121.2        110       10.30       162.6          104          7.32   \n",
       "4     61.9         88        5.26       196.9           89          8.86   \n",
       "5    148.3        122       12.61       186.9          121          8.41   \n",
       "\n",
       "   customer.calls churn  \n",
       "1               1    no  \n",
       "2               1    no  \n",
       "3               0    no  \n",
       "4               2    no  \n",
       "5               3    no  "
      ]
     },
     "execution_count": 3,
     "metadata": {},
     "output_type": "execute_result"
    }
   ],
   "source": [
    "tele.head()"
   ]
  },
  {
   "cell_type": "code",
   "execution_count": 4,
   "id": "1bdd8f79",
   "metadata": {},
   "outputs": [
    {
     "data": {
      "text/plain": [
       "(5000, 20)"
      ]
     },
     "execution_count": 4,
     "metadata": {},
     "output_type": "execute_result"
    }
   ],
   "source": [
    "tele.shape"
   ]
  },
  {
   "cell_type": "markdown",
   "id": "03182e7e",
   "metadata": {},
   "source": [
    "There are 5000 rows and 20 columns"
   ]
  },
  {
   "cell_type": "markdown",
   "id": "3d43b00a",
   "metadata": {},
   "source": [
    "## renaming the columns"
   ]
  },
  {
   "cell_type": "code",
   "execution_count": 5,
   "id": "37106325",
   "metadata": {},
   "outputs": [],
   "source": [
    "tele=tele.rename({'area.code':'area_code','account.length': 'account_length', 'intl.plan':'intl_plan','intl.mins':'intl_mins','intl.charge':'intl_charge','intl.calls':'intl_calls',\n",
    "                   'voice.plan':'voice_plan','day.calls':'day_calls','day.mins':'day_mins','day.charge':'day_charge',\n",
    "                   'voice.messages':'voice_messages','eve.mins':'eve_mins','eve.calls':'eve_calls','eve.charge':'eve_charge',\n",
    "                   'night.mins':'night_mins','night.calls':'night_calls','night.charge':'night_charge','customer.calls':'customer_calls'}\n",
    "                   ,axis=1)"
   ]
  },
  {
   "cell_type": "code",
   "execution_count": 6,
   "id": "26f65261",
   "metadata": {},
   "outputs": [
    {
     "data": {
      "image/png": "[encoded data removed]",
      "text/plain": [
       "<Figure size 432x288 with 1 Axes>"
      ]
     },
     "metadata": {
      "needs_background": "light"
     },
     "output_type": "display_data"
    }
   ],
   "source": [
    "box=tele.boxplot(figsize=(12,5))"
   ]
  },
  {
   "cell_type": "code",
   "execution_count": 7,
   "id": "f1a4f561",
   "metadata": {},
   "outputs": [
    {
     "data": {
      "text/plain": [
       "state              object\n",
       "area_code          object\n",
       "account_length      int64\n",
       "voice_plan         object\n",
       "voice_messages      int64\n",
       "intl_plan          object\n",
       "intl_mins         float64\n",
       "intl_calls          int64\n",
       "intl_charge       float64\n",
       "day_mins          float64\n",
       "day_calls           int64\n",
       "day_charge         object\n",
       "eve_mins           object\n",
       "eve_calls           int64\n",
       "eve_charge        float64\n",
       "night_mins        float64\n",
       "night_calls         int64\n",
       "night_charge      float64\n",
       "customer_calls      int64\n",
       "churn              object\n",
       "dtype: object"
      ]
     },
     "execution_count": 7,
     "metadata": {},
     "output_type": "execute_result"
    }
   ],
   "source": [
    "tele.dtypes"
   ]
  },
  {
   "cell_type": "code",
   "execution_count": 8,
   "id": "83de2e16",
   "metadata": {},
   "outputs": [
    {
     "name": "stdout",
     "output_type": "stream",
     "text": [
      "<class 'pandas.core.frame.DataFrame'>\n",
      "Int64Index: 5000 entries, 1 to 5000\n",
      "Data columns (total 20 columns):\n",
      " #   Column          Non-Null Count  Dtype  \n",
      "---  ------          --------------  -----  \n",
      " 0   state           5000 non-null   object \n",
      " 1   area_code       5000 non-null   object \n",
      " 2   account_length  5000 non-null   int64  \n",
      " 3   voice_plan      5000 non-null   object \n",
      " 4   voice_messages  5000 non-null   int64  \n",
      " 5   intl_plan       5000 non-null   object \n",
      " 6   intl_mins       5000 non-null   float64\n",
      " 7   intl_calls      5000 non-null   int64  \n",
      " 8   intl_charge     5000 non-null   float64\n",
      " 9   day_mins        5000 non-null   float64\n",
      " 10  day_calls       5000 non-null   int64  \n",
      " 11  day_charge      5000 non-null   object \n",
      " 12  eve_mins        5000 non-null   object \n",
      " 13  eve_calls       5000 non-null   int64  \n",
      " 14  eve_charge      5000 non-null   float64\n",
      " 15  night_mins      5000 non-null   float64\n",
      " 16  night_calls     5000 non-null   int64  \n",
      " 17  night_charge    5000 non-null   float64\n",
      " 18  customer_calls  5000 non-null   int64  \n",
      " 19  churn           5000 non-null   object \n",
      "dtypes: float64(6), int64(7), object(7)\n",
      "memory usage: 820.3+ KB\n"
     ]
    }
   ],
   "source": [
    "tele.info()"
   ]
  },
  {
   "cell_type": "markdown",
   "id": "ee0a093e",
   "metadata": {},
   "source": [
    "#### state,area_code,voice_plan,intl_plan and churn are categorical values columns\n",
    "##### datatypes of day_charge and eve_mins are in object,so we have to convert it into numerical"
   ]
  },
  {
   "cell_type": "markdown",
   "id": "a819e73f",
   "metadata": {},
   "source": [
    "## data conversion"
   ]
  },
  {
   "cell_type": "code",
   "execution_count": 9,
   "id": "ac99d730",
   "metadata": {},
   "outputs": [],
   "source": [
    "tele['day_charge']=pd.to_numeric(tele['day_charge'],errors='coerce')\n",
    "tele['eve_mins']=pd.to_numeric(tele['eve_mins'],errors='coerce')"
   ]
  },
  {
   "cell_type": "code",
   "execution_count": 10,
   "id": "178d4130",
   "metadata": {},
   "outputs": [],
   "source": [
    "#convert string values(yes and no) of churn column to 1 and 0\n",
    "tele.loc[tele.churn=='no', 'churn']=0\n",
    "tele.loc[tele.churn=='yes', 'churn']=1\n",
    "#convert to integer\n",
    "tele['churn']=tele['churn'].astype('int32')"
   ]
  },
  {
   "cell_type": "code",
   "execution_count": 11,
   "id": "e0f16fc3",
   "metadata": {},
   "outputs": [
    {
     "name": "stdout",
     "output_type": "stream",
     "text": [
      "<class 'pandas.core.frame.DataFrame'>\n",
      "Int64Index: 5000 entries, 1 to 5000\n",
      "Data columns (total 20 columns):\n",
      " #   Column          Non-Null Count  Dtype  \n",
      "---  ------          --------------  -----  \n",
      " 0   state           5000 non-null   object \n",
      " 1   area_code       5000 non-null   object \n",
      " 2   account_length  5000 non-null   int64  \n",
      " 3   voice_plan      5000 non-null   object \n",
      " 4   voice_messages  5000 non-null   int64  \n",
      " 5   intl_plan       5000 non-null   object \n",
      " 6   intl_mins       5000 non-null   float64\n",
      " 7   intl_calls      5000 non-null   int64  \n",
      " 8   intl_charge     5000 non-null   float64\n",
      " 9   day_mins        5000 non-null   float64\n",
      " 10  day_calls       5000 non-null   int64  \n",
      " 11  day_charge      4993 non-null   float64\n",
      " 12  eve_mins        4976 non-null   float64\n",
      " 13  eve_calls       5000 non-null   int64  \n",
      " 14  eve_charge      5000 non-null   float64\n",
      " 15  night_mins      5000 non-null   float64\n",
      " 16  night_calls     5000 non-null   int64  \n",
      " 17  night_charge    5000 non-null   float64\n",
      " 18  customer_calls  5000 non-null   int64  \n",
      " 19  churn           5000 non-null   int32  \n",
      "dtypes: float64(8), int32(1), int64(7), object(4)\n",
      "memory usage: 800.8+ KB\n"
     ]
    }
   ],
   "source": [
    "tele.info()"
   ]
  },
  {
   "cell_type": "markdown",
   "id": "3889b6a4",
   "metadata": {},
   "source": [
    "#### converted the day_charge and eve_mins datatypes"
   ]
  },
  {
   "cell_type": "code",
   "execution_count": 12,
   "id": "443e490b",
   "metadata": {},
   "outputs": [
    {
     "data": {
      "text/html": [
       "<div>\n",
       "<style scoped>\n",
       "    .dataframe tbody tr th:only-of-type {\n",
       "        vertical-align: middle;\n",
       "    }\n",
       "\n",
       "    .dataframe tbody tr th {\n",
       "        vertical-align: top;\n",
       "    }\n",
       "\n",
       "    .dataframe thead th {\n",
       "        text-align: right;\n",
       "    }\n",
       "</style>\n",
       "<table border=\"1\" class=\"dataframe\">\n",
       "  <thead>\n",
       "    <tr style=\"text-align: right;\">\n",
       "      <th></th>\n",
       "      <th>account_length</th>\n",
       "      <th>voice_messages</th>\n",
       "      <th>intl_mins</th>\n",
       "      <th>intl_calls</th>\n",
       "      <th>intl_charge</th>\n",
       "      <th>day_mins</th>\n",
       "      <th>day_calls</th>\n",
       "      <th>day_charge</th>\n",
       "      <th>eve_mins</th>\n",
       "      <th>eve_calls</th>\n",
       "      <th>eve_charge</th>\n",
       "      <th>night_mins</th>\n",
       "      <th>night_calls</th>\n",
       "      <th>night_charge</th>\n",
       "      <th>customer_calls</th>\n",
       "      <th>churn</th>\n",
       "    </tr>\n",
       "  </thead>\n",
       "  <tbody>\n",
       "    <tr>\n",
       "      <th>count</th>\n",
       "      <td>5000.00000</td>\n",
       "      <td>5000.000000</td>\n",
       "      <td>5000.000000</td>\n",
       "      <td>5000.000000</td>\n",
       "      <td>5000.000000</td>\n",
       "      <td>5000.000000</td>\n",
       "      <td>5000.000000</td>\n",
       "      <td>4993.000000</td>\n",
       "      <td>4976.000000</td>\n",
       "      <td>5000.000000</td>\n",
       "      <td>5000.000000</td>\n",
       "      <td>5000.000000</td>\n",
       "      <td>5000.000000</td>\n",
       "      <td>5000.000000</td>\n",
       "      <td>5000.000000</td>\n",
       "      <td>5000.000000</td>\n",
       "    </tr>\n",
       "    <tr>\n",
       "      <th>mean</th>\n",
       "      <td>100.25860</td>\n",
       "      <td>7.755200</td>\n",
       "      <td>10.261780</td>\n",
       "      <td>4.435200</td>\n",
       "      <td>2.771196</td>\n",
       "      <td>180.288900</td>\n",
       "      <td>100.029400</td>\n",
       "      <td>30.653501</td>\n",
       "      <td>200.580326</td>\n",
       "      <td>100.191000</td>\n",
       "      <td>17.054322</td>\n",
       "      <td>200.391620</td>\n",
       "      <td>99.919200</td>\n",
       "      <td>9.017732</td>\n",
       "      <td>1.570400</td>\n",
       "      <td>0.141400</td>\n",
       "    </tr>\n",
       "    <tr>\n",
       "      <th>std</th>\n",
       "      <td>39.69456</td>\n",
       "      <td>13.546393</td>\n",
       "      <td>2.761396</td>\n",
       "      <td>2.456788</td>\n",
       "      <td>0.745514</td>\n",
       "      <td>53.894699</td>\n",
       "      <td>19.831197</td>\n",
       "      <td>9.166356</td>\n",
       "      <td>50.554637</td>\n",
       "      <td>19.826496</td>\n",
       "      <td>4.296843</td>\n",
       "      <td>50.527789</td>\n",
       "      <td>19.958686</td>\n",
       "      <td>2.273763</td>\n",
       "      <td>1.306363</td>\n",
       "      <td>0.348469</td>\n",
       "    </tr>\n",
       "    <tr>\n",
       "      <th>min</th>\n",
       "      <td>1.00000</td>\n",
       "      <td>0.000000</td>\n",
       "      <td>0.000000</td>\n",
       "      <td>0.000000</td>\n",
       "      <td>0.000000</td>\n",
       "      <td>0.000000</td>\n",
       "      <td>0.000000</td>\n",
       "      <td>0.000000</td>\n",
       "      <td>0.000000</td>\n",
       "      <td>0.000000</td>\n",
       "      <td>0.000000</td>\n",
       "      <td>0.000000</td>\n",
       "      <td>0.000000</td>\n",
       "      <td>0.000000</td>\n",
       "      <td>0.000000</td>\n",
       "      <td>0.000000</td>\n",
       "    </tr>\n",
       "    <tr>\n",
       "      <th>25%</th>\n",
       "      <td>73.00000</td>\n",
       "      <td>0.000000</td>\n",
       "      <td>8.500000</td>\n",
       "      <td>3.000000</td>\n",
       "      <td>2.300000</td>\n",
       "      <td>143.700000</td>\n",
       "      <td>87.000000</td>\n",
       "      <td>24.430000</td>\n",
       "      <td>166.275000</td>\n",
       "      <td>87.000000</td>\n",
       "      <td>14.140000</td>\n",
       "      <td>166.900000</td>\n",
       "      <td>87.000000</td>\n",
       "      <td>7.510000</td>\n",
       "      <td>1.000000</td>\n",
       "      <td>0.000000</td>\n",
       "    </tr>\n",
       "    <tr>\n",
       "      <th>50%</th>\n",
       "      <td>100.00000</td>\n",
       "      <td>0.000000</td>\n",
       "      <td>10.300000</td>\n",
       "      <td>4.000000</td>\n",
       "      <td>2.780000</td>\n",
       "      <td>180.100000</td>\n",
       "      <td>100.000000</td>\n",
       "      <td>30.620000</td>\n",
       "      <td>201.000000</td>\n",
       "      <td>100.000000</td>\n",
       "      <td>17.090000</td>\n",
       "      <td>200.400000</td>\n",
       "      <td>100.000000</td>\n",
       "      <td>9.020000</td>\n",
       "      <td>1.000000</td>\n",
       "      <td>0.000000</td>\n",
       "    </tr>\n",
       "    <tr>\n",
       "      <th>75%</th>\n",
       "      <td>127.00000</td>\n",
       "      <td>17.000000</td>\n",
       "      <td>12.000000</td>\n",
       "      <td>6.000000</td>\n",
       "      <td>3.240000</td>\n",
       "      <td>216.200000</td>\n",
       "      <td>113.000000</td>\n",
       "      <td>36.750000</td>\n",
       "      <td>234.100000</td>\n",
       "      <td>114.000000</td>\n",
       "      <td>19.900000</td>\n",
       "      <td>234.700000</td>\n",
       "      <td>113.000000</td>\n",
       "      <td>10.560000</td>\n",
       "      <td>2.000000</td>\n",
       "      <td>0.000000</td>\n",
       "    </tr>\n",
       "    <tr>\n",
       "      <th>max</th>\n",
       "      <td>243.00000</td>\n",
       "      <td>52.000000</td>\n",
       "      <td>20.000000</td>\n",
       "      <td>20.000000</td>\n",
       "      <td>5.400000</td>\n",
       "      <td>351.500000</td>\n",
       "      <td>165.000000</td>\n",
       "      <td>59.760000</td>\n",
       "      <td>363.700000</td>\n",
       "      <td>170.000000</td>\n",
       "      <td>30.910000</td>\n",
       "      <td>395.000000</td>\n",
       "      <td>175.000000</td>\n",
       "      <td>17.770000</td>\n",
       "      <td>9.000000</td>\n",
       "      <td>1.000000</td>\n",
       "    </tr>\n",
       "  </tbody>\n",
       "</table>\n",
       "</div>"
      ],
      "text/plain": [
       "       account_length  voice_messages    intl_mins   intl_calls  intl_charge  \\\n",
       "count      5000.00000     5000.000000  5000.000000  5000.000000  5000.000000   \n",
       "mean        100.25860        7.755200    10.261780     4.435200     2.771196   \n",
       "std          39.69456       13.546393     2.761396     2.456788     0.745514   \n",
       "min           1.00000        0.000000     0.000000     0.000000     0.000000   \n",
       "25%          73.00000        0.000000     8.500000     3.000000     2.300000   \n",
       "50%         100.00000        0.000000    10.300000     4.000000     2.780000   \n",
       "75%         127.00000       17.000000    12.000000     6.000000     3.240000   \n",
       "max         243.00000       52.000000    20.000000    20.000000     5.400000   \n",
       "\n",
       "          day_mins    day_calls   day_charge     eve_mins    eve_calls  \\\n",
       "count  5000.000000  5000.000000  4993.000000  4976.000000  5000.000000   \n",
       "mean    180.288900   100.029400    30.653501   200.580326   100.191000   \n",
       "std      53.894699    19.831197     9.166356    50.554637    19.826496   \n",
       "min       0.000000     0.000000     0.000000     0.000000     0.000000   \n",
       "25%     143.700000    87.000000    24.430000   166.275000    87.000000   \n",
       "50%     180.100000   100.000000    30.620000   201.000000   100.000000   \n",
       "75%     216.200000   113.000000    36.750000   234.100000   114.000000   \n",
       "max     351.500000   165.000000    59.760000   363.700000   170.000000   \n",
       "\n",
       "        eve_charge   night_mins  night_calls  night_charge  customer_calls  \\\n",
       "count  5000.000000  5000.000000  5000.000000   5000.000000     5000.000000   \n",
       "mean     17.054322   200.391620    99.919200      9.017732        1.570400   \n",
       "std       4.296843    50.527789    19.958686      2.273763        1.306363   \n",
       "min       0.000000     0.000000     0.000000      0.000000        0.000000   \n",
       "25%      14.140000   166.900000    87.000000      7.510000        1.000000   \n",
       "50%      17.090000   200.400000   100.000000      9.020000        1.000000   \n",
       "75%      19.900000   234.700000   113.000000     10.560000        2.000000   \n",
       "max      30.910000   395.000000   175.000000     17.770000        9.000000   \n",
       "\n",
       "             churn  \n",
       "count  5000.000000  \n",
       "mean      0.141400  \n",
       "std       0.348469  \n",
       "min       0.000000  \n",
       "25%       0.000000  \n",
       "50%       0.000000  \n",
       "75%       0.000000  \n",
       "max       1.000000  "
      ]
     },
     "execution_count": 12,
     "metadata": {},
     "output_type": "execute_result"
    }
   ],
   "source": [
    "tele.describe()"
   ]
  },
  {
   "cell_type": "markdown",
   "id": "af1cbe57",
   "metadata": {},
   "source": [
    "## check duplicates"
   ]
  },
  {
   "cell_type": "code",
   "execution_count": 13,
   "id": "01e7fafa",
   "metadata": {},
   "outputs": [
    {
     "data": {
      "text/plain": [
       "(0, 20)"
      ]
     },
     "execution_count": 13,
     "metadata": {},
     "output_type": "execute_result"
    }
   ],
   "source": [
    "tele[tele.duplicated()].shape"
   ]
  },
  {
   "cell_type": "markdown",
   "id": "16ede77d",
   "metadata": {},
   "source": [
    "There are no duplicate values"
   ]
  },
  {
   "cell_type": "markdown",
   "id": "25cd742a",
   "metadata": {},
   "source": [
    "## Missing value & imputation"
   ]
  },
  {
   "cell_type": "code",
   "execution_count": 14,
   "id": "2a7210c1",
   "metadata": {},
   "outputs": [
    {
     "data": {
      "text/plain": [
       "<AxesSubplot:>"
      ]
     },
     "execution_count": 14,
     "metadata": {},
     "output_type": "execute_result"
    },
    {
     "data": {
      "image/png": "[encoded data removed]",
      "text/plain": [
       "<Figure size 1300x600 with 2 Axes>"
      ]
     },
     "metadata": {},
     "output_type": "display_data"
    }
   ],
   "source": [
    "plt.figure(figsize=[13,6])\n",
    "cols=tele.columns\n",
    "colours=['#000099','#ffff00']\n",
    "sns.heatmap(tele[cols].isnull().transpose(),cmap=sns.color_palette(colours))"
   ]
  },
  {
   "cell_type": "code",
   "execution_count": 15,
   "id": "e2096964",
   "metadata": {},
   "outputs": [
    {
     "data": {
      "text/plain": [
       "state              0\n",
       "area_code          0\n",
       "account_length     0\n",
       "voice_plan         0\n",
       "voice_messages     0\n",
       "intl_plan          0\n",
       "intl_mins          0\n",
       "intl_calls         0\n",
       "intl_charge        0\n",
       "day_mins           0\n",
       "day_calls          0\n",
       "day_charge         7\n",
       "eve_mins          24\n",
       "eve_calls          0\n",
       "eve_charge         0\n",
       "night_mins         0\n",
       "night_calls        0\n",
       "night_charge       0\n",
       "customer_calls     0\n",
       "churn              0\n",
       "dtype: int64"
      ]
     },
     "execution_count": 15,
     "metadata": {},
     "output_type": "execute_result"
    }
   ],
   "source": [
    "tele.isnull().sum()"
   ]
  },
  {
   "cell_type": "code",
   "execution_count": 16,
   "id": "602b017b",
   "metadata": {},
   "outputs": [
    {
     "data": {
      "text/html": [
       "<div>\n",
       "<style scoped>\n",
       "    .dataframe tbody tr th:only-of-type {\n",
       "        vertical-align: middle;\n",
       "    }\n",
       "\n",
       "    .dataframe tbody tr th {\n",
       "        vertical-align: top;\n",
       "    }\n",
       "\n",
       "    .dataframe thead th {\n",
       "        text-align: right;\n",
       "    }\n",
       "</style>\n",
       "<table border=\"1\" class=\"dataframe\">\n",
       "  <thead>\n",
       "    <tr style=\"text-align: right;\">\n",
       "      <th></th>\n",
       "      <th>state</th>\n",
       "      <th>area_code</th>\n",
       "      <th>account_length</th>\n",
       "      <th>voice_plan</th>\n",
       "      <th>voice_messages</th>\n",
       "      <th>intl_plan</th>\n",
       "      <th>intl_mins</th>\n",
       "      <th>intl_calls</th>\n",
       "      <th>intl_charge</th>\n",
       "      <th>day_mins</th>\n",
       "      <th>day_calls</th>\n",
       "      <th>day_charge</th>\n",
       "      <th>eve_mins</th>\n",
       "      <th>eve_calls</th>\n",
       "      <th>eve_charge</th>\n",
       "      <th>night_mins</th>\n",
       "      <th>night_calls</th>\n",
       "      <th>night_charge</th>\n",
       "      <th>customer_calls</th>\n",
       "      <th>churn</th>\n",
       "    </tr>\n",
       "  </thead>\n",
       "  <tbody>\n",
       "    <tr>\n",
       "      <th>13</th>\n",
       "      <td>IA</td>\n",
       "      <td>area_code_408</td>\n",
       "      <td>168</td>\n",
       "      <td>no</td>\n",
       "      <td>0</td>\n",
       "      <td>no</td>\n",
       "      <td>11.2</td>\n",
       "      <td>2</td>\n",
       "      <td>3.02</td>\n",
       "      <td>128.8</td>\n",
       "      <td>96</td>\n",
       "      <td>NaN</td>\n",
       "      <td>104.9</td>\n",
       "      <td>71</td>\n",
       "      <td>8.92</td>\n",
       "      <td>141.1</td>\n",
       "      <td>128</td>\n",
       "      <td>6.35</td>\n",
       "      <td>1</td>\n",
       "      <td>0</td>\n",
       "    </tr>\n",
       "    <tr>\n",
       "      <th>28</th>\n",
       "      <td>MT</td>\n",
       "      <td>area_code_408</td>\n",
       "      <td>54</td>\n",
       "      <td>no</td>\n",
       "      <td>0</td>\n",
       "      <td>no</td>\n",
       "      <td>14.7</td>\n",
       "      <td>4</td>\n",
       "      <td>3.97</td>\n",
       "      <td>134.3</td>\n",
       "      <td>73</td>\n",
       "      <td>NaN</td>\n",
       "      <td>155.5</td>\n",
       "      <td>100</td>\n",
       "      <td>13.22</td>\n",
       "      <td>102.1</td>\n",
       "      <td>68</td>\n",
       "      <td>4.59</td>\n",
       "      <td>3</td>\n",
       "      <td>0</td>\n",
       "    </tr>\n",
       "    <tr>\n",
       "      <th>48</th>\n",
       "      <td>DE</td>\n",
       "      <td>area_code_408</td>\n",
       "      <td>142</td>\n",
       "      <td>no</td>\n",
       "      <td>0</td>\n",
       "      <td>no</td>\n",
       "      <td>7.4</td>\n",
       "      <td>5</td>\n",
       "      <td>2.00</td>\n",
       "      <td>187.0</td>\n",
       "      <td>133</td>\n",
       "      <td>NaN</td>\n",
       "      <td>134.6</td>\n",
       "      <td>74</td>\n",
       "      <td>11.44</td>\n",
       "      <td>242.2</td>\n",
       "      <td>127</td>\n",
       "      <td>10.90</td>\n",
       "      <td>2</td>\n",
       "      <td>0</td>\n",
       "    </tr>\n",
       "    <tr>\n",
       "      <th>4408</th>\n",
       "      <td>TN</td>\n",
       "      <td>area_code_415</td>\n",
       "      <td>125</td>\n",
       "      <td>no</td>\n",
       "      <td>0</td>\n",
       "      <td>no</td>\n",
       "      <td>7.7</td>\n",
       "      <td>3</td>\n",
       "      <td>2.08</td>\n",
       "      <td>138.5</td>\n",
       "      <td>96</td>\n",
       "      <td>NaN</td>\n",
       "      <td>159.7</td>\n",
       "      <td>117</td>\n",
       "      <td>13.57</td>\n",
       "      <td>212.7</td>\n",
       "      <td>91</td>\n",
       "      <td>9.57</td>\n",
       "      <td>2</td>\n",
       "      <td>0</td>\n",
       "    </tr>\n",
       "    <tr>\n",
       "      <th>4756</th>\n",
       "      <td>OK</td>\n",
       "      <td>area_code_408</td>\n",
       "      <td>17</td>\n",
       "      <td>no</td>\n",
       "      <td>0</td>\n",
       "      <td>no</td>\n",
       "      <td>14.8</td>\n",
       "      <td>5</td>\n",
       "      <td>4.00</td>\n",
       "      <td>180.4</td>\n",
       "      <td>121</td>\n",
       "      <td>NaN</td>\n",
       "      <td>228.5</td>\n",
       "      <td>111</td>\n",
       "      <td>19.42</td>\n",
       "      <td>199.5</td>\n",
       "      <td>99</td>\n",
       "      <td>8.98</td>\n",
       "      <td>0</td>\n",
       "      <td>0</td>\n",
       "    </tr>\n",
       "    <tr>\n",
       "      <th>4966</th>\n",
       "      <td>NC</td>\n",
       "      <td>area_code_408</td>\n",
       "      <td>92</td>\n",
       "      <td>no</td>\n",
       "      <td>0</td>\n",
       "      <td>no</td>\n",
       "      <td>10.7</td>\n",
       "      <td>2</td>\n",
       "      <td>2.89</td>\n",
       "      <td>192.1</td>\n",
       "      <td>87</td>\n",
       "      <td>NaN</td>\n",
       "      <td>193.0</td>\n",
       "      <td>122</td>\n",
       "      <td>16.41</td>\n",
       "      <td>133.4</td>\n",
       "      <td>79</td>\n",
       "      <td>6.00</td>\n",
       "      <td>1</td>\n",
       "      <td>0</td>\n",
       "    </tr>\n",
       "    <tr>\n",
       "      <th>4993</th>\n",
       "      <td>MT</td>\n",
       "      <td>area_code_415</td>\n",
       "      <td>83</td>\n",
       "      <td>no</td>\n",
       "      <td>0</td>\n",
       "      <td>no</td>\n",
       "      <td>10.3</td>\n",
       "      <td>6</td>\n",
       "      <td>2.78</td>\n",
       "      <td>188.3</td>\n",
       "      <td>70</td>\n",
       "      <td>NaN</td>\n",
       "      <td>243.8</td>\n",
       "      <td>88</td>\n",
       "      <td>20.72</td>\n",
       "      <td>213.7</td>\n",
       "      <td>79</td>\n",
       "      <td>9.62</td>\n",
       "      <td>0</td>\n",
       "      <td>0</td>\n",
       "    </tr>\n",
       "  </tbody>\n",
       "</table>\n",
       "</div>"
      ],
      "text/plain": [
       "     state      area_code  account_length voice_plan  voice_messages  \\\n",
       "13      IA  area_code_408             168         no               0   \n",
       "28      MT  area_code_408              54         no               0   \n",
       "48      DE  area_code_408             142         no               0   \n",
       "4408    TN  area_code_415             125         no               0   \n",
       "4756    OK  area_code_408              17         no               0   \n",
       "4966    NC  area_code_408              92         no               0   \n",
       "4993    MT  area_code_415              83         no               0   \n",
       "\n",
       "     intl_plan  intl_mins  intl_calls  intl_charge  day_mins  day_calls  \\\n",
       "13          no       11.2           2         3.02     128.8         96   \n",
       "28          no       14.7           4         3.97     134.3         73   \n",
       "48          no        7.4           5         2.00     187.0        133   \n",
       "4408        no        7.7           3         2.08     138.5         96   \n",
       "4756        no       14.8           5         4.00     180.4        121   \n",
       "4966        no       10.7           2         2.89     192.1         87   \n",
       "4993        no       10.3           6         2.78     188.3         70   \n",
       "\n",
       "      day_charge  eve_mins  eve_calls  eve_charge  night_mins  night_calls  \\\n",
       "13           NaN     104.9         71        8.92       141.1          128   \n",
       "28           NaN     155.5        100       13.22       102.1           68   \n",
       "48           NaN     134.6         74       11.44       242.2          127   \n",
       "4408         NaN     159.7        117       13.57       212.7           91   \n",
       "4756         NaN     228.5        111       19.42       199.5           99   \n",
       "4966         NaN     193.0        122       16.41       133.4           79   \n",
       "4993         NaN     243.8         88       20.72       213.7           79   \n",
       "\n",
       "      night_charge  customer_calls  churn  \n",
       "13            6.35               1      0  \n",
       "28            4.59               3      0  \n",
       "48           10.90               2      0  \n",
       "4408          9.57               2      0  \n",
       "4756          8.98               0      0  \n",
       "4966          6.00               1      0  \n",
       "4993          9.62               0      0  "
      ]
     },
     "execution_count": 16,
     "metadata": {},
     "output_type": "execute_result"
    }
   ],
   "source": [
    "tele[tele['day_charge'].isnull()]"
   ]
  },
  {
   "cell_type": "code",
   "execution_count": 17,
   "id": "4c72d8dc",
   "metadata": {},
   "outputs": [
    {
     "data": {
      "text/html": [
       "<div>\n",
       "<style scoped>\n",
       "    .dataframe tbody tr th:only-of-type {\n",
       "        vertical-align: middle;\n",
       "    }\n",
       "\n",
       "    .dataframe tbody tr th {\n",
       "        vertical-align: top;\n",
       "    }\n",
       "\n",
       "    .dataframe thead th {\n",
       "        text-align: right;\n",
       "    }\n",
       "</style>\n",
       "<table border=\"1\" class=\"dataframe\">\n",
       "  <thead>\n",
       "    <tr style=\"text-align: right;\">\n",
       "      <th></th>\n",
       "      <th>state</th>\n",
       "      <th>area_code</th>\n",
       "      <th>account_length</th>\n",
       "      <th>voice_plan</th>\n",
       "      <th>voice_messages</th>\n",
       "      <th>intl_plan</th>\n",
       "      <th>intl_mins</th>\n",
       "      <th>intl_calls</th>\n",
       "      <th>intl_charge</th>\n",
       "      <th>day_mins</th>\n",
       "      <th>day_calls</th>\n",
       "      <th>day_charge</th>\n",
       "      <th>eve_mins</th>\n",
       "      <th>eve_calls</th>\n",
       "      <th>eve_charge</th>\n",
       "      <th>night_mins</th>\n",
       "      <th>night_calls</th>\n",
       "      <th>night_charge</th>\n",
       "      <th>customer_calls</th>\n",
       "      <th>churn</th>\n",
       "    </tr>\n",
       "  </thead>\n",
       "  <tbody>\n",
       "    <tr>\n",
       "      <th>90</th>\n",
       "      <td>NJ</td>\n",
       "      <td>area_code_415</td>\n",
       "      <td>128</td>\n",
       "      <td>no</td>\n",
       "      <td>0</td>\n",
       "      <td>no</td>\n",
       "      <td>13.9</td>\n",
       "      <td>4</td>\n",
       "      <td>3.75</td>\n",
       "      <td>237.9</td>\n",
       "      <td>125</td>\n",
       "      <td>40.44</td>\n",
       "      <td>NaN</td>\n",
       "      <td>93</td>\n",
       "      <td>21.05</td>\n",
       "      <td>208.9</td>\n",
       "      <td>68</td>\n",
       "      <td>9.40</td>\n",
       "      <td>1</td>\n",
       "      <td>1</td>\n",
       "    </tr>\n",
       "    <tr>\n",
       "      <th>103</th>\n",
       "      <td>VT</td>\n",
       "      <td>area_code_415</td>\n",
       "      <td>135</td>\n",
       "      <td>no</td>\n",
       "      <td>0</td>\n",
       "      <td>no</td>\n",
       "      <td>10.5</td>\n",
       "      <td>6</td>\n",
       "      <td>2.84</td>\n",
       "      <td>151.7</td>\n",
       "      <td>82</td>\n",
       "      <td>25.79</td>\n",
       "      <td>NaN</td>\n",
       "      <td>105</td>\n",
       "      <td>10.12</td>\n",
       "      <td>180.0</td>\n",
       "      <td>100</td>\n",
       "      <td>8.10</td>\n",
       "      <td>0</td>\n",
       "      <td>0</td>\n",
       "    </tr>\n",
       "    <tr>\n",
       "      <th>111</th>\n",
       "      <td>MI</td>\n",
       "      <td>area_code_408</td>\n",
       "      <td>120</td>\n",
       "      <td>no</td>\n",
       "      <td>0</td>\n",
       "      <td>no</td>\n",
       "      <td>8.3</td>\n",
       "      <td>8</td>\n",
       "      <td>2.24</td>\n",
       "      <td>165.0</td>\n",
       "      <td>100</td>\n",
       "      <td>28.05</td>\n",
       "      <td>NaN</td>\n",
       "      <td>83</td>\n",
       "      <td>26.96</td>\n",
       "      <td>119.2</td>\n",
       "      <td>86</td>\n",
       "      <td>5.36</td>\n",
       "      <td>1</td>\n",
       "      <td>0</td>\n",
       "    </tr>\n",
       "    <tr>\n",
       "      <th>160</th>\n",
       "      <td>FL</td>\n",
       "      <td>area_code_510</td>\n",
       "      <td>115</td>\n",
       "      <td>yes</td>\n",
       "      <td>24</td>\n",
       "      <td>no</td>\n",
       "      <td>9.6</td>\n",
       "      <td>4</td>\n",
       "      <td>2.59</td>\n",
       "      <td>142.1</td>\n",
       "      <td>124</td>\n",
       "      <td>24.16</td>\n",
       "      <td>NaN</td>\n",
       "      <td>129</td>\n",
       "      <td>15.59</td>\n",
       "      <td>164.8</td>\n",
       "      <td>114</td>\n",
       "      <td>7.42</td>\n",
       "      <td>1</td>\n",
       "      <td>0</td>\n",
       "    </tr>\n",
       "    <tr>\n",
       "      <th>232</th>\n",
       "      <td>OH</td>\n",
       "      <td>area_code_415</td>\n",
       "      <td>63</td>\n",
       "      <td>yes</td>\n",
       "      <td>36</td>\n",
       "      <td>yes</td>\n",
       "      <td>11.0</td>\n",
       "      <td>6</td>\n",
       "      <td>2.97</td>\n",
       "      <td>199.0</td>\n",
       "      <td>110</td>\n",
       "      <td>33.83</td>\n",
       "      <td>NaN</td>\n",
       "      <td>111</td>\n",
       "      <td>24.76</td>\n",
       "      <td>197.6</td>\n",
       "      <td>92</td>\n",
       "      <td>8.89</td>\n",
       "      <td>1</td>\n",
       "      <td>0</td>\n",
       "    </tr>\n",
       "    <tr>\n",
       "      <th>255</th>\n",
       "      <td>TX</td>\n",
       "      <td>area_code_415</td>\n",
       "      <td>97</td>\n",
       "      <td>no</td>\n",
       "      <td>0</td>\n",
       "      <td>yes</td>\n",
       "      <td>10.9</td>\n",
       "      <td>3</td>\n",
       "      <td>2.94</td>\n",
       "      <td>143.7</td>\n",
       "      <td>117</td>\n",
       "      <td>24.43</td>\n",
       "      <td>NaN</td>\n",
       "      <td>82</td>\n",
       "      <td>23.21</td>\n",
       "      <td>178.3</td>\n",
       "      <td>81</td>\n",
       "      <td>8.02</td>\n",
       "      <td>0</td>\n",
       "      <td>0</td>\n",
       "    </tr>\n",
       "    <tr>\n",
       "      <th>300</th>\n",
       "      <td>MN</td>\n",
       "      <td>area_code_415</td>\n",
       "      <td>94</td>\n",
       "      <td>no</td>\n",
       "      <td>0</td>\n",
       "      <td>no</td>\n",
       "      <td>6.6</td>\n",
       "      <td>5</td>\n",
       "      <td>1.78</td>\n",
       "      <td>181.5</td>\n",
       "      <td>98</td>\n",
       "      <td>30.86</td>\n",
       "      <td>NaN</td>\n",
       "      <td>88</td>\n",
       "      <td>16.99</td>\n",
       "      <td>287.7</td>\n",
       "      <td>114</td>\n",
       "      <td>12.95</td>\n",
       "      <td>1</td>\n",
       "      <td>0</td>\n",
       "    </tr>\n",
       "    <tr>\n",
       "      <th>346</th>\n",
       "      <td>VA</td>\n",
       "      <td>area_code_415</td>\n",
       "      <td>141</td>\n",
       "      <td>no</td>\n",
       "      <td>0</td>\n",
       "      <td>no</td>\n",
       "      <td>7.2</td>\n",
       "      <td>8</td>\n",
       "      <td>1.94</td>\n",
       "      <td>260.2</td>\n",
       "      <td>131</td>\n",
       "      <td>44.23</td>\n",
       "      <td>NaN</td>\n",
       "      <td>120</td>\n",
       "      <td>15.23</td>\n",
       "      <td>135.0</td>\n",
       "      <td>119</td>\n",
       "      <td>6.08</td>\n",
       "      <td>3</td>\n",
       "      <td>0</td>\n",
       "    </tr>\n",
       "    <tr>\n",
       "      <th>461</th>\n",
       "      <td>UT</td>\n",
       "      <td>area_code_415</td>\n",
       "      <td>90</td>\n",
       "      <td>no</td>\n",
       "      <td>0</td>\n",
       "      <td>no</td>\n",
       "      <td>9.6</td>\n",
       "      <td>5</td>\n",
       "      <td>2.59</td>\n",
       "      <td>261.8</td>\n",
       "      <td>128</td>\n",
       "      <td>44.51</td>\n",
       "      <td>NaN</td>\n",
       "      <td>104</td>\n",
       "      <td>18.75</td>\n",
       "      <td>136.6</td>\n",
       "      <td>91</td>\n",
       "      <td>6.15</td>\n",
       "      <td>1</td>\n",
       "      <td>0</td>\n",
       "    </tr>\n",
       "    <tr>\n",
       "      <th>558</th>\n",
       "      <td>TX</td>\n",
       "      <td>area_code_408</td>\n",
       "      <td>58</td>\n",
       "      <td>yes</td>\n",
       "      <td>20</td>\n",
       "      <td>no</td>\n",
       "      <td>9.5</td>\n",
       "      <td>2</td>\n",
       "      <td>2.57</td>\n",
       "      <td>194.5</td>\n",
       "      <td>110</td>\n",
       "      <td>33.07</td>\n",
       "      <td>NaN</td>\n",
       "      <td>89</td>\n",
       "      <td>18.16</td>\n",
       "      <td>236.6</td>\n",
       "      <td>92</td>\n",
       "      <td>10.65</td>\n",
       "      <td>1</td>\n",
       "      <td>0</td>\n",
       "    </tr>\n",
       "    <tr>\n",
       "      <th>625</th>\n",
       "      <td>DC</td>\n",
       "      <td>area_code_415</td>\n",
       "      <td>126</td>\n",
       "      <td>no</td>\n",
       "      <td>0</td>\n",
       "      <td>no</td>\n",
       "      <td>5.1</td>\n",
       "      <td>2</td>\n",
       "      <td>1.38</td>\n",
       "      <td>161.4</td>\n",
       "      <td>110</td>\n",
       "      <td>27.44</td>\n",
       "      <td>NaN</td>\n",
       "      <td>125</td>\n",
       "      <td>18.75</td>\n",
       "      <td>249.2</td>\n",
       "      <td>78</td>\n",
       "      <td>11.21</td>\n",
       "      <td>0</td>\n",
       "      <td>0</td>\n",
       "    </tr>\n",
       "    <tr>\n",
       "      <th>685</th>\n",
       "      <td>AK</td>\n",
       "      <td>area_code_408</td>\n",
       "      <td>110</td>\n",
       "      <td>no</td>\n",
       "      <td>0</td>\n",
       "      <td>no</td>\n",
       "      <td>11.1</td>\n",
       "      <td>8</td>\n",
       "      <td>3.00</td>\n",
       "      <td>100.1</td>\n",
       "      <td>90</td>\n",
       "      <td>17.02</td>\n",
       "      <td>NaN</td>\n",
       "      <td>93</td>\n",
       "      <td>19.83</td>\n",
       "      <td>204.4</td>\n",
       "      <td>57</td>\n",
       "      <td>9.20</td>\n",
       "      <td>3</td>\n",
       "      <td>0</td>\n",
       "    </tr>\n",
       "    <tr>\n",
       "      <th>730</th>\n",
       "      <td>ME</td>\n",
       "      <td>area_code_415</td>\n",
       "      <td>151</td>\n",
       "      <td>yes</td>\n",
       "      <td>26</td>\n",
       "      <td>no</td>\n",
       "      <td>13.4</td>\n",
       "      <td>5</td>\n",
       "      <td>3.62</td>\n",
       "      <td>196.5</td>\n",
       "      <td>98</td>\n",
       "      <td>33.41</td>\n",
       "      <td>NaN</td>\n",
       "      <td>111</td>\n",
       "      <td>14.94</td>\n",
       "      <td>221.8</td>\n",
       "      <td>124</td>\n",
       "      <td>9.98</td>\n",
       "      <td>0</td>\n",
       "      <td>0</td>\n",
       "    </tr>\n",
       "    <tr>\n",
       "      <th>751</th>\n",
       "      <td>AL</td>\n",
       "      <td>area_code_415</td>\n",
       "      <td>146</td>\n",
       "      <td>yes</td>\n",
       "      <td>32</td>\n",
       "      <td>no</td>\n",
       "      <td>8.2</td>\n",
       "      <td>4</td>\n",
       "      <td>2.21</td>\n",
       "      <td>154.0</td>\n",
       "      <td>80</td>\n",
       "      <td>26.18</td>\n",
       "      <td>NaN</td>\n",
       "      <td>91</td>\n",
       "      <td>15.77</td>\n",
       "      <td>148.2</td>\n",
       "      <td>107</td>\n",
       "      <td>6.67</td>\n",
       "      <td>3</td>\n",
       "      <td>0</td>\n",
       "    </tr>\n",
       "    <tr>\n",
       "      <th>796</th>\n",
       "      <td>DE</td>\n",
       "      <td>area_code_415</td>\n",
       "      <td>92</td>\n",
       "      <td>no</td>\n",
       "      <td>0</td>\n",
       "      <td>no</td>\n",
       "      <td>10.8</td>\n",
       "      <td>4</td>\n",
       "      <td>2.92</td>\n",
       "      <td>197.0</td>\n",
       "      <td>84</td>\n",
       "      <td>33.49</td>\n",
       "      <td>NaN</td>\n",
       "      <td>105</td>\n",
       "      <td>22.89</td>\n",
       "      <td>158.9</td>\n",
       "      <td>105</td>\n",
       "      <td>7.15</td>\n",
       "      <td>1</td>\n",
       "      <td>0</td>\n",
       "    </tr>\n",
       "    <tr>\n",
       "      <th>893</th>\n",
       "      <td>LA</td>\n",
       "      <td>area_code_415</td>\n",
       "      <td>109</td>\n",
       "      <td>yes</td>\n",
       "      <td>27</td>\n",
       "      <td>no</td>\n",
       "      <td>12.3</td>\n",
       "      <td>4</td>\n",
       "      <td>3.32</td>\n",
       "      <td>166.9</td>\n",
       "      <td>85</td>\n",
       "      <td>28.37</td>\n",
       "      <td>NaN</td>\n",
       "      <td>92</td>\n",
       "      <td>18.80</td>\n",
       "      <td>197.3</td>\n",
       "      <td>97</td>\n",
       "      <td>8.88</td>\n",
       "      <td>1</td>\n",
       "      <td>1</td>\n",
       "    </tr>\n",
       "    <tr>\n",
       "      <th>1013</th>\n",
       "      <td>ND</td>\n",
       "      <td>area_code_415</td>\n",
       "      <td>182</td>\n",
       "      <td>no</td>\n",
       "      <td>0</td>\n",
       "      <td>no</td>\n",
       "      <td>8.0</td>\n",
       "      <td>5</td>\n",
       "      <td>2.16</td>\n",
       "      <td>104.9</td>\n",
       "      <td>111</td>\n",
       "      <td>17.83</td>\n",
       "      <td>NaN</td>\n",
       "      <td>120</td>\n",
       "      <td>16.87</td>\n",
       "      <td>258.2</td>\n",
       "      <td>91</td>\n",
       "      <td>11.62</td>\n",
       "      <td>2</td>\n",
       "      <td>0</td>\n",
       "    </tr>\n",
       "    <tr>\n",
       "      <th>1100</th>\n",
       "      <td>HI</td>\n",
       "      <td>area_code_415</td>\n",
       "      <td>157</td>\n",
       "      <td>no</td>\n",
       "      <td>0</td>\n",
       "      <td>no</td>\n",
       "      <td>2.2</td>\n",
       "      <td>4</td>\n",
       "      <td>0.59</td>\n",
       "      <td>276.2</td>\n",
       "      <td>95</td>\n",
       "      <td>46.95</td>\n",
       "      <td>NaN</td>\n",
       "      <td>119</td>\n",
       "      <td>14.09</td>\n",
       "      <td>151.6</td>\n",
       "      <td>79</td>\n",
       "      <td>6.82</td>\n",
       "      <td>3</td>\n",
       "      <td>0</td>\n",
       "    </tr>\n",
       "    <tr>\n",
       "      <th>1220</th>\n",
       "      <td>KS</td>\n",
       "      <td>area_code_510</td>\n",
       "      <td>36</td>\n",
       "      <td>no</td>\n",
       "      <td>0</td>\n",
       "      <td>no</td>\n",
       "      <td>10.9</td>\n",
       "      <td>5</td>\n",
       "      <td>2.94</td>\n",
       "      <td>178.6</td>\n",
       "      <td>83</td>\n",
       "      <td>30.36</td>\n",
       "      <td>NaN</td>\n",
       "      <td>103</td>\n",
       "      <td>18.11</td>\n",
       "      <td>198.0</td>\n",
       "      <td>119</td>\n",
       "      <td>8.91</td>\n",
       "      <td>1</td>\n",
       "      <td>0</td>\n",
       "    </tr>\n",
       "    <tr>\n",
       "      <th>1418</th>\n",
       "      <td>AK</td>\n",
       "      <td>area_code_408</td>\n",
       "      <td>141</td>\n",
       "      <td>no</td>\n",
       "      <td>0</td>\n",
       "      <td>no</td>\n",
       "      <td>10.7</td>\n",
       "      <td>7</td>\n",
       "      <td>2.89</td>\n",
       "      <td>83.2</td>\n",
       "      <td>74</td>\n",
       "      <td>14.14</td>\n",
       "      <td>NaN</td>\n",
       "      <td>104</td>\n",
       "      <td>16.20</td>\n",
       "      <td>150.5</td>\n",
       "      <td>79</td>\n",
       "      <td>6.77</td>\n",
       "      <td>1</td>\n",
       "      <td>0</td>\n",
       "    </tr>\n",
       "    <tr>\n",
       "      <th>1484</th>\n",
       "      <td>NV</td>\n",
       "      <td>area_code_510</td>\n",
       "      <td>107</td>\n",
       "      <td>no</td>\n",
       "      <td>0</td>\n",
       "      <td>yes</td>\n",
       "      <td>10.0</td>\n",
       "      <td>3</td>\n",
       "      <td>2.70</td>\n",
       "      <td>234.1</td>\n",
       "      <td>91</td>\n",
       "      <td>39.80</td>\n",
       "      <td>NaN</td>\n",
       "      <td>105</td>\n",
       "      <td>13.86</td>\n",
       "      <td>282.5</td>\n",
       "      <td>100</td>\n",
       "      <td>12.71</td>\n",
       "      <td>1</td>\n",
       "      <td>0</td>\n",
       "    </tr>\n",
       "    <tr>\n",
       "      <th>1626</th>\n",
       "      <td>WI</td>\n",
       "      <td>area_code_510</td>\n",
       "      <td>100</td>\n",
       "      <td>yes</td>\n",
       "      <td>38</td>\n",
       "      <td>no</td>\n",
       "      <td>9.8</td>\n",
       "      <td>6</td>\n",
       "      <td>2.65</td>\n",
       "      <td>224.7</td>\n",
       "      <td>121</td>\n",
       "      <td>38.20</td>\n",
       "      <td>NaN</td>\n",
       "      <td>131</td>\n",
       "      <td>24.99</td>\n",
       "      <td>290.0</td>\n",
       "      <td>61</td>\n",
       "      <td>13.05</td>\n",
       "      <td>0</td>\n",
       "      <td>0</td>\n",
       "    </tr>\n",
       "    <tr>\n",
       "      <th>1700</th>\n",
       "      <td>TX</td>\n",
       "      <td>area_code_408</td>\n",
       "      <td>133</td>\n",
       "      <td>no</td>\n",
       "      <td>0</td>\n",
       "      <td>no</td>\n",
       "      <td>8.4</td>\n",
       "      <td>3</td>\n",
       "      <td>2.27</td>\n",
       "      <td>221.1</td>\n",
       "      <td>133</td>\n",
       "      <td>37.59</td>\n",
       "      <td>NaN</td>\n",
       "      <td>140</td>\n",
       "      <td>13.62</td>\n",
       "      <td>161.8</td>\n",
       "      <td>84</td>\n",
       "      <td>7.28</td>\n",
       "      <td>4</td>\n",
       "      <td>0</td>\n",
       "    </tr>\n",
       "    <tr>\n",
       "      <th>1779</th>\n",
       "      <td>CO</td>\n",
       "      <td>area_code_510</td>\n",
       "      <td>54</td>\n",
       "      <td>yes</td>\n",
       "      <td>39</td>\n",
       "      <td>no</td>\n",
       "      <td>11.3</td>\n",
       "      <td>10</td>\n",
       "      <td>3.05</td>\n",
       "      <td>117.6</td>\n",
       "      <td>82</td>\n",
       "      <td>19.99</td>\n",
       "      <td>NaN</td>\n",
       "      <td>60</td>\n",
       "      <td>13.53</td>\n",
       "      <td>236.4</td>\n",
       "      <td>113</td>\n",
       "      <td>10.64</td>\n",
       "      <td>2</td>\n",
       "      <td>0</td>\n",
       "    </tr>\n",
       "  </tbody>\n",
       "</table>\n",
       "</div>"
      ],
      "text/plain": [
       "     state      area_code  account_length voice_plan  voice_messages  \\\n",
       "90      NJ  area_code_415             128         no               0   \n",
       "103     VT  area_code_415             135         no               0   \n",
       "111     MI  area_code_408             120         no               0   \n",
       "160     FL  area_code_510             115        yes              24   \n",
       "232     OH  area_code_415              63        yes              36   \n",
       "255     TX  area_code_415              97         no               0   \n",
       "300     MN  area_code_415              94         no               0   \n",
       "346     VA  area_code_415             141         no               0   \n",
       "461     UT  area_code_415              90         no               0   \n",
       "558     TX  area_code_408              58        yes              20   \n",
       "625     DC  area_code_415             126         no               0   \n",
       "685     AK  area_code_408             110         no               0   \n",
       "730     ME  area_code_415             151        yes              26   \n",
       "751     AL  area_code_415             146        yes              32   \n",
       "796     DE  area_code_415              92         no               0   \n",
       "893     LA  area_code_415             109        yes              27   \n",
       "1013    ND  area_code_415             182         no               0   \n",
       "1100    HI  area_code_415             157         no               0   \n",
       "1220    KS  area_code_510              36         no               0   \n",
       "1418    AK  area_code_408             141         no               0   \n",
       "1484    NV  area_code_510             107         no               0   \n",
       "1626    WI  area_code_510             100        yes              38   \n",
       "1700    TX  area_code_408             133         no               0   \n",
       "1779    CO  area_code_510              54        yes              39   \n",
       "\n",
       "     intl_plan  intl_mins  intl_calls  intl_charge  day_mins  day_calls  \\\n",
       "90          no       13.9           4         3.75     237.9        125   \n",
       "103         no       10.5           6         2.84     151.7         82   \n",
       "111         no        8.3           8         2.24     165.0        100   \n",
       "160         no        9.6           4         2.59     142.1        124   \n",
       "232        yes       11.0           6         2.97     199.0        110   \n",
       "255        yes       10.9           3         2.94     143.7        117   \n",
       "300         no        6.6           5         1.78     181.5         98   \n",
       "346         no        7.2           8         1.94     260.2        131   \n",
       "461         no        9.6           5         2.59     261.8        128   \n",
       "558         no        9.5           2         2.57     194.5        110   \n",
       "625         no        5.1           2         1.38     161.4        110   \n",
       "685         no       11.1           8         3.00     100.1         90   \n",
       "730         no       13.4           5         3.62     196.5         98   \n",
       "751         no        8.2           4         2.21     154.0         80   \n",
       "796         no       10.8           4         2.92     197.0         84   \n",
       "893         no       12.3           4         3.32     166.9         85   \n",
       "1013        no        8.0           5         2.16     104.9        111   \n",
       "1100        no        2.2           4         0.59     276.2         95   \n",
       "1220        no       10.9           5         2.94     178.6         83   \n",
       "1418        no       10.7           7         2.89      83.2         74   \n",
       "1484       yes       10.0           3         2.70     234.1         91   \n",
       "1626        no        9.8           6         2.65     224.7        121   \n",
       "1700        no        8.4           3         2.27     221.1        133   \n",
       "1779        no       11.3          10         3.05     117.6         82   \n",
       "\n",
       "      day_charge  eve_mins  eve_calls  eve_charge  night_mins  night_calls  \\\n",
       "90         40.44       NaN         93       21.05       208.9           68   \n",
       "103        25.79       NaN        105       10.12       180.0          100   \n",
       "111        28.05       NaN         83       26.96       119.2           86   \n",
       "160        24.16       NaN        129       15.59       164.8          114   \n",
       "232        33.83       NaN        111       24.76       197.6           92   \n",
       "255        24.43       NaN         82       23.21       178.3           81   \n",
       "300        30.86       NaN         88       16.99       287.7          114   \n",
       "346        44.23       NaN        120       15.23       135.0          119   \n",
       "461        44.51       NaN        104       18.75       136.6           91   \n",
       "558        33.07       NaN         89       18.16       236.6           92   \n",
       "625        27.44       NaN        125       18.75       249.2           78   \n",
       "685        17.02       NaN         93       19.83       204.4           57   \n",
       "730        33.41       NaN        111       14.94       221.8          124   \n",
       "751        26.18       NaN         91       15.77       148.2          107   \n",
       "796        33.49       NaN        105       22.89       158.9          105   \n",
       "893        28.37       NaN         92       18.80       197.3           97   \n",
       "1013       17.83       NaN        120       16.87       258.2           91   \n",
       "1100       46.95       NaN        119       14.09       151.6           79   \n",
       "1220       30.36       NaN        103       18.11       198.0          119   \n",
       "1418       14.14       NaN        104       16.20       150.5           79   \n",
       "1484       39.80       NaN        105       13.86       282.5          100   \n",
       "1626       38.20       NaN        131       24.99       290.0           61   \n",
       "1700       37.59       NaN        140       13.62       161.8           84   \n",
       "1779       19.99       NaN         60       13.53       236.4          113   \n",
       "\n",
       "      night_charge  customer_calls  churn  \n",
       "90            9.40               1      1  \n",
       "103           8.10               0      0  \n",
       "111           5.36               1      0  \n",
       "160           7.42               1      0  \n",
       "232           8.89               1      0  \n",
       "255           8.02               0      0  \n",
       "300          12.95               1      0  \n",
       "346           6.08               3      0  \n",
       "461           6.15               1      0  \n",
       "558          10.65               1      0  \n",
       "625          11.21               0      0  \n",
       "685           9.20               3      0  \n",
       "730           9.98               0      0  \n",
       "751           6.67               3      0  \n",
       "796           7.15               1      0  \n",
       "893           8.88               1      1  \n",
       "1013         11.62               2      0  \n",
       "1100          6.82               3      0  \n",
       "1220          8.91               1      0  \n",
       "1418          6.77               1      0  \n",
       "1484         12.71               1      0  \n",
       "1626         13.05               0      0  \n",
       "1700          7.28               4      0  \n",
       "1779         10.64               2      0  "
      ]
     },
     "execution_count": 17,
     "metadata": {},
     "output_type": "execute_result"
    }
   ],
   "source": [
    "tele[tele['eve_mins'].isnull()]"
   ]
  },
  {
   "cell_type": "code",
   "execution_count": 18,
   "id": "3aaa2476",
   "metadata": {},
   "outputs": [],
   "source": [
    "day_mean=tele['day_charge'].mean()\n",
    "eve_mean=tele['eve_mins'].mean()"
   ]
  },
  {
   "cell_type": "code",
   "execution_count": 19,
   "id": "fbe3464b",
   "metadata": {},
   "outputs": [
    {
     "data": {
      "text/plain": [
       "30.653500901261765"
      ]
     },
     "execution_count": 19,
     "metadata": {},
     "output_type": "execute_result"
    }
   ],
   "source": [
    "day_mean"
   ]
  },
  {
   "cell_type": "code",
   "execution_count": 20,
   "id": "1d552143",
   "metadata": {},
   "outputs": [
    {
     "data": {
      "text/plain": [
       "200.58032556270098"
      ]
     },
     "execution_count": 20,
     "metadata": {},
     "output_type": "execute_result"
    }
   ],
   "source": [
    "eve_mean"
   ]
  },
  {
   "cell_type": "code",
   "execution_count": 21,
   "id": "cb4447fa",
   "metadata": {},
   "outputs": [],
   "source": [
    "tele['day_charge']=tele['day_charge'].fillna(day_mean)\n",
    "tele['eve_mins']=tele['eve_mins'].fillna(eve_mean)"
   ]
  },
  {
   "cell_type": "code",
   "execution_count": 22,
   "id": "51bd71b0",
   "metadata": {
    "scrolled": true
   },
   "outputs": [
    {
     "data": {
      "text/plain": [
       "state             0\n",
       "area_code         0\n",
       "account_length    0\n",
       "voice_plan        0\n",
       "voice_messages    0\n",
       "intl_plan         0\n",
       "intl_mins         0\n",
       "intl_calls        0\n",
       "intl_charge       0\n",
       "day_mins          0\n",
       "day_calls         0\n",
       "day_charge        0\n",
       "eve_mins          0\n",
       "eve_calls         0\n",
       "eve_charge        0\n",
       "night_mins        0\n",
       "night_calls       0\n",
       "night_charge      0\n",
       "customer_calls    0\n",
       "churn             0\n",
       "dtype: int64"
      ]
     },
     "execution_count": 22,
     "metadata": {},
     "output_type": "execute_result"
    }
   ],
   "source": [
    "tele.isnull().sum()"
   ]
  },
  {
   "cell_type": "code",
   "execution_count": 23,
   "id": "dc8c6ae2",
   "metadata": {},
   "outputs": [],
   "source": [
    "data_box=tele.day_charge"
   ]
  },
  {
   "cell_type": "code",
   "execution_count": 24,
   "id": "3fc8caef",
   "metadata": {},
   "outputs": [
    {
     "data": {
      "image/png": "[encoded data removed]",
      "text/plain": [
       "<Figure size 640x480 with 1 Axes>"
      ]
     },
     "metadata": {},
     "output_type": "display_data"
    }
   ],
   "source": [
    "box=plt.boxplot(data_box)"
   ]
  },
  {
   "cell_type": "code",
   "execution_count": 25,
   "id": "99a4e910",
   "metadata": {},
   "outputs": [
    {
     "data": {
      "text/plain": [
       "[array([ 5.25,  5.78,  2.13,  4.4 ,  0.  ,  0.  ,  3.32,  1.34,  4.59,\n",
       "         2.99,  0.44,  1.33,  3.21,  5.08,  1.12,  5.87,  1.22, 56.59,\n",
       "        57.36, 55.51, 59.64, 57.04, 56.83, 58.96, 56.07, 55.78, 55.47,\n",
       "        58.7 , 57.53, 55.44, 55.32, 59.76, 56.46, 55.34])]"
      ]
     },
     "execution_count": 25,
     "metadata": {},
     "output_type": "execute_result"
    }
   ],
   "source": [
    "[item.get_ydata() for item in box['fliers']]"
   ]
  },
  {
   "cell_type": "code",
   "execution_count": 26,
   "id": "95cbd7e4",
   "metadata": {},
   "outputs": [],
   "source": [
    "data_box1=tele.eve_mins"
   ]
  },
  {
   "cell_type": "code",
   "execution_count": 27,
   "id": "93c4beb9",
   "metadata": {},
   "outputs": [
    {
     "data": {
      "image/png": "[encoded data removed]",
      "text/plain": [
       "<Figure size 640x480 with 1 Axes>"
      ]
     },
     "metadata": {},
     "output_type": "display_data"
    }
   ],
   "source": [
    "box1=plt.boxplot(data_box1)"
   ]
  },
  {
   "cell_type": "code",
   "execution_count": 28,
   "id": "c16107eb",
   "metadata": {},
   "outputs": [
    {
     "data": {
      "text/plain": [
       "[array([ 61.9,  31.2,  64.3,  42.2,  58.9,  43.9,  52.9,  42.5,  60.8,\n",
       "         58.6,  56. ,  48.1,  60. ,  65.2,  49.2,   0. ,  22.3,  58.3,\n",
       "         37.8,  41.7,  47.3,  53.2,  47.3, 348.5, 351.6, 350.5, 337.1,\n",
       "        335. , 347.3, 336. , 350.9, 339.9, 361.8, 335.7, 354.2, 363.7,\n",
       "        341.3, 344. , 349.4, 348.9, 344.9, 352.1, 345.1, 359.3, 340.3])]"
      ]
     },
     "execution_count": 28,
     "metadata": {},
     "output_type": "execute_result"
    }
   ],
   "source": [
    "[item.get_ydata() for item in box1['fliers']]"
   ]
  },
  {
   "cell_type": "code",
   "execution_count": 29,
   "id": "73c96ae3",
   "metadata": {},
   "outputs": [
    {
     "data": {
      "text/plain": [
       "array([0, 1])"
      ]
     },
     "execution_count": 29,
     "metadata": {},
     "output_type": "execute_result"
    }
   ],
   "source": [
    "tele['churn'].unique()"
   ]
  },
  {
   "cell_type": "code",
   "execution_count": 30,
   "id": "7bcaee4f",
   "metadata": {},
   "outputs": [
    {
     "name": "stdout",
     "output_type": "stream",
     "text": [
      "0    4293\n",
      "1     707\n",
      "Name: churn, dtype: int64\n"
     ]
    }
   ],
   "source": [
    "print(tele.churn.value_counts())"
   ]
  },
  {
   "cell_type": "code",
   "execution_count": 31,
   "id": "b2296439",
   "metadata": {},
   "outputs": [
    {
     "data": {
      "text/plain": [
       "<function matplotlib.pyplot.show(close=None, block=None)>"
      ]
     },
     "execution_count": 31,
     "metadata": {},
     "output_type": "execute_result"
    },
    {
     "data": {
      "image/png": "[encoded data removed]",
      "text/plain": [
       "<Figure size 400x400 with 1 Axes>"
      ]
     },
     "metadata": {},
     "output_type": "display_data"
    }
   ],
   "source": [
    "tele['churn'].value_counts().plot.pie(autopct='%1.1f%%',figsize=(4,4))\n",
    "plt.title(\"Pie chart for churn\")\n",
    "plt.show"
   ]
  },
  {
   "cell_type": "markdown",
   "id": "eadd8aa9",
   "metadata": {},
   "source": [
    "#### 14.1% customers are getting churn"
   ]
  },
  {
   "cell_type": "markdown",
   "id": "531bf1be",
   "metadata": {},
   "source": [
    "## analyzing state column"
   ]
  },
  {
   "cell_type": "code",
   "execution_count": 32,
   "id": "f3373c46",
   "metadata": {},
   "outputs": [
    {
     "data": {
      "text/plain": [
       "51"
      ]
     },
     "execution_count": 32,
     "metadata": {},
     "output_type": "execute_result"
    }
   ],
   "source": [
    "tele['state'].nunique()"
   ]
  },
  {
   "cell_type": "code",
   "execution_count": 33,
   "id": "a9447b4c",
   "metadata": {},
   "outputs": [
    {
     "data": {
      "image/png": "[encoded data removed]",
      "text/plain": [
       "<Figure size 1400x600 with 1 Axes>"
      ]
     },
     "metadata": {},
     "output_type": "display_data"
    }
   ],
   "source": [
    "plt.figure(figsize=[14,6])\n",
    "an_state=sns.countplot(x='state',hue='churn',data=tele)\n",
    "plt.show()"
   ]
  },
  {
   "cell_type": "code",
   "execution_count": 34,
   "id": "01bb8a15",
   "metadata": {},
   "outputs": [
    {
     "data": {
      "image/png": "[encoded data removed]",
      "text/plain": [
       "<Figure size 800x400 with 1 Axes>"
      ]
     },
     "metadata": {},
     "output_type": "display_data"
    }
   ],
   "source": [
    "plt.rcParams['figure.figsize'] = (8,4)\n",
    "color = plt.cm.copper(np.linspace(0, 0.5, 20))\n",
    "((tele.groupby(['state'])['churn'].mean())*100).sort_values(ascending = False).head(6).plot.bar(color = ['violet','indigo','b','g','y','orange','r'])\n",
    "plt.title(\" State with most churn percentage\", fontsize = 10)\n",
    "plt.xlabel('state', fontsize = 10)\n",
    "plt.ylabel('percentage', fontsize = 10)\n",
    "plt.show()"
   ]
  },
  {
   "cell_type": "code",
   "execution_count": 35,
   "id": "cc871201",
   "metadata": {},
   "outputs": [
    {
     "name": "stdout",
     "output_type": "stream",
     "text": [
      "churn    0   1  Percentage_Churn\n",
      "state                           \n",
      "AK      67   5          6.944444\n",
      "AL     111  13         10.483871\n",
      "AR      76  16         17.391304\n",
      "AZ      80   9         10.112360\n",
      "CA      38  14         26.923077\n",
      "CO      85  11         11.458333\n",
      "CT      83  16         16.161616\n",
      "DC      79   9         10.227273\n",
      "DE      79  15         15.957447\n",
      "FL      78  12         13.333333\n",
      "GA      73  10         12.048193\n",
      "HI      81   5          5.813953\n",
      "IA      61   8         11.594203\n",
      "ID     105  14         11.764706\n",
      "IL      81   7          7.954545\n",
      "IN      84  14         14.285714\n",
      "KS      81  18         18.181818\n",
      "KY      84  15         15.151515\n",
      "LA      75   7          8.536585\n",
      "MA      86  17         16.504854\n",
      "MD      81  21         20.588235\n",
      "ME      84  19         18.446602\n",
      "MI      85  18         17.475728\n",
      "MN     105  20         16.000000\n",
      "MO      81  12         12.903226\n",
      "MS      82  17         17.171717\n",
      "MT      78  21         21.212121\n",
      "NC      79  12         13.186813\n",
      "ND      78  10         11.363636\n",
      "NE      82   6          6.818182\n",
      "NH      83  12         12.631579\n",
      "NJ      84  28         25.000000\n",
      "NM      81  10         10.989011\n",
      "NV      73  17         18.888889\n",
      "NY      94  20         17.543860\n",
      "OH     101  15         12.931034\n",
      "OK      74  16         17.777778\n",
      "OR      96  18         15.789474\n",
      "PA      69   8         10.389610\n",
      "RI      92   7          7.070707\n",
      "SC      75  16         17.582418\n",
      "SD      73  12         14.117647\n",
      "TN      75  14         15.730337\n",
      "TX      90  26         22.413793\n",
      "UT      96  16         14.285714\n",
      "VA     112   6          5.084746\n",
      "VT      91  10          9.900990\n",
      "WA      74  24         24.489796\n",
      "WI      98   8          7.547170\n",
      "WV     136  22         13.924051\n",
      "WY     104  11          9.565217\n"
     ]
    }
   ],
   "source": [
    "#calculate State vs Churn percentage\n",
    "State_data = pd.crosstab(tele[\"state\"],tele[\"churn\"])\n",
    "State_data['Percentage_Churn'] = State_data.apply(lambda x : x[1]*100/(x[0]+x[1]),axis = 1)\n",
    "print(State_data)"
   ]
  },
  {
   "cell_type": "code",
   "execution_count": 36,
   "id": "fb9311f6",
   "metadata": {},
   "outputs": [
    {
     "data": {
      "text/plain": [
       "state\n",
       "CA    0.269231\n",
       "NJ    0.250000\n",
       "WA    0.244898\n",
       "TX    0.224138\n",
       "MT    0.212121\n",
       "MD    0.205882\n",
       "NV    0.188889\n",
       "ME    0.184466\n",
       "KS    0.181818\n",
       "OK    0.177778\n",
       "Name: churn, dtype: float64"
      ]
     },
     "execution_count": 36,
     "metadata": {},
     "output_type": "execute_result"
    }
   ],
   "source": [
    "#show the most churn state of top 10 by ascending the above list\n",
    "tele.groupby(['state'])['churn'].mean().sort_values(ascending = False).head(10)"
   ]
  },
  {
   "cell_type": "markdown",
   "id": "9e37652f",
   "metadata": {},
   "source": [
    "#### There are 51 unique states.\n",
    "#### from above plot we can understand CA,NJ,WA,TX,MT,MD have higher churn rate"
   ]
  },
  {
   "cell_type": "code",
   "execution_count": 37,
   "id": "33dcae7e",
   "metadata": {},
   "outputs": [
    {
     "data": {
      "text/plain": [
       "3"
      ]
     },
     "execution_count": 37,
     "metadata": {},
     "output_type": "execute_result"
    }
   ],
   "source": [
    "tele['area_code'].nunique()"
   ]
  },
  {
   "cell_type": "code",
   "execution_count": 38,
   "id": "f768acfe",
   "metadata": {},
   "outputs": [
    {
     "data": {
      "image/png": "[encoded data removed]",
      "text/plain": [
       "<Figure size 600x400 with 1 Axes>"
      ]
     },
     "metadata": {},
     "output_type": "display_data"
    }
   ],
   "source": [
    "plt.figure(figsize=[6,4])\n",
    "an_state=sns.countplot(x='area_code',hue='churn',data=tele)\n",
    "plt.show()"
   ]
  },
  {
   "cell_type": "code",
   "execution_count": 39,
   "id": "e29f9917",
   "metadata": {},
   "outputs": [
    {
     "name": "stdout",
     "output_type": "stream",
     "text": [
      "churn             0    1  Percentage_Churn\n",
      "area_code                                 \n",
      "area_code_408  1082  177         14.058777\n",
      "area_code_415  2149  346         13.867735\n",
      "area_code_510  1062  184         14.767255\n"
     ]
    }
   ],
   "source": [
    "#calculate Area code vs Churn percentage\n",
    "Area_code_data = pd.crosstab(tele[\"area_code\"],tele[\"churn\"])\n",
    "Area_code_data['Percentage_Churn'] = Area_code_data.apply(lambda x : x[1]*100/(x[0]+x[1]),axis = 1)\n",
    "print(Area_code_data)"
   ]
  },
  {
   "cell_type": "markdown",
   "id": "b7812bad",
   "metadata": {},
   "source": [
    "##### There are 3 unique area codes and the churn rate of these areacodes are almost similar"
   ]
  },
  {
   "cell_type": "code",
   "execution_count": 40,
   "id": "a5e6ad04",
   "metadata": {},
   "outputs": [],
   "source": [
    "#Separating churn and non churn customers\n",
    "churn_df     = tele[tele[\"churn\"] == bool(True)]\n",
    "not_churn_df = tele[tele[\"churn\"] == bool(False)]"
   ]
  },
  {
   "cell_type": "code",
   "execution_count": 41,
   "id": "2f61efd9",
   "metadata": {},
   "outputs": [
    {
     "name": "stderr",
     "output_type": "stream",
     "text": [
      "C:\\Users\\HP\\AppData\\Roaming\\Python\\Python39\\site-packages\\seaborn\\distributions.py:2619: FutureWarning: `distplot` is a deprecated function and will be removed in a future version. Please adapt your code to use either `displot` (a figure-level function with similar flexibility) or `histplot` (an axes-level function for histograms).\n",
      "  warnings.warn(msg, FutureWarning)\n",
      "C:\\Users\\HP\\AppData\\Roaming\\Python\\Python39\\site-packages\\seaborn\\distributions.py:2619: FutureWarning: `distplot` is a deprecated function and will be removed in a future version. Please adapt your code to use either `displot` (a figure-level function with similar flexibility) or `kdeplot` (an axes-level function for kernel density plots).\n",
      "  warnings.warn(msg, FutureWarning)\n",
      "C:\\Users\\HP\\AppData\\Roaming\\Python\\Python39\\site-packages\\seaborn\\distributions.py:2619: FutureWarning: `distplot` is a deprecated function and will be removed in a future version. Please adapt your code to use either `displot` (a figure-level function with similar flexibility) or `kdeplot` (an axes-level function for kernel density plots).\n",
      "  warnings.warn(msg, FutureWarning)\n"
     ]
    },
    {
     "data": {
      "text/plain": [
       "<matplotlib.legend.Legend at 0x2393cdb2070>"
      ]
     },
     "execution_count": 41,
     "metadata": {},
     "output_type": "execute_result"
    },
    {
     "data": {
      "image/png": "[encoded data removed]",
      "text/plain": [
       "<Figure size 1000x500 with 1 Axes>"
      ]
     },
     "metadata": {},
     "output_type": "display_data"
    }
   ],
   "source": [
    "#comparison of churned account length and not churned account length \n",
    "plt.figure(figsize=[10,5])\n",
    "sns.distplot(tele['account_length'],color = 'purple',label=\"All\")\n",
    "sns.distplot(churn_df['account_length'],color = \"red\",hist=False,label=\"Churned\")\n",
    "sns.distplot(not_churn_df['account_length'],color = 'green',hist= False,label=\"Not churned\")\n",
    "plt.legend()"
   ]
  },
  {
   "cell_type": "markdown",
   "id": "7e1db392",
   "metadata": {},
   "source": [
    "#### after analyzing various aspects of the account length we didnt found any useful relation to churn."
   ]
  },
  {
   "cell_type": "markdown",
   "id": "c097e80e",
   "metadata": {},
   "source": [
    "# Analyzing international and voice plan"
   ]
  },
  {
   "cell_type": "code",
   "execution_count": 42,
   "id": "543e926a",
   "metadata": {},
   "outputs": [
    {
     "data": {
      "text/plain": [
       "no     4527\n",
       "yes     473\n",
       "Name: intl_plan, dtype: int64"
      ]
     },
     "execution_count": 42,
     "metadata": {},
     "output_type": "execute_result"
    }
   ],
   "source": [
    "tele['intl_plan'].value_counts()"
   ]
  },
  {
   "cell_type": "code",
   "execution_count": 43,
   "id": "ae06dcc6",
   "metadata": {},
   "outputs": [
    {
     "data": {
      "text/plain": [
       "no     3677\n",
       "yes    1323\n",
       "Name: voice_plan, dtype: int64"
      ]
     },
     "execution_count": 43,
     "metadata": {},
     "output_type": "execute_result"
    }
   ],
   "source": [
    "tele['voice_plan'].value_counts()"
   ]
  },
  {
   "cell_type": "code",
   "execution_count": 44,
   "id": "e63aa723",
   "metadata": {},
   "outputs": [
    {
     "data": {
      "text/plain": [
       "<AxesSubplot:xlabel='intl_plan', ylabel='count'>"
      ]
     },
     "execution_count": 44,
     "metadata": {},
     "output_type": "execute_result"
    },
    {
     "data": {
      "image/png": "[encoded data removed]",
      "text/plain": [
       "<Figure size 1500x1500 with 2 Axes>"
      ]
     },
     "metadata": {},
     "output_type": "display_data"
    }
   ],
   "source": [
    "plt.figure(figsize=(15,15))\n",
    "plt.subplot(4,4,1)\n",
    "sns.countplot(x='voice_plan',hue='churn',data=tele)\n",
    "plt.subplot(4,4,2)\n",
    "sns.countplot(x='intl_plan',hue='churn',data=tele)"
   ]
  },
  {
   "cell_type": "code",
   "execution_count": 45,
   "id": "aa14fd60",
   "metadata": {},
   "outputs": [
    {
     "name": "stdout",
     "output_type": "stream",
     "text": [
      "churn         0    1  Percentage Churn\n",
      "intl_plan                             \n",
      "no         4019  508         11.221560\n",
      "yes         274  199         42.071882\n"
     ]
    }
   ],
   "source": [
    "#Calculate the International Plan vs Churn percentage \n",
    "International_plan_data = pd.crosstab(tele[\"intl_plan\"],tele[\"churn\"])\n",
    "International_plan_data['Percentage Churn'] = International_plan_data.apply(lambda x : x[1]*100/(x[0]+x[1]),axis = 1)\n",
    "print(International_plan_data)"
   ]
  },
  {
   "cell_type": "code",
   "execution_count": 46,
   "id": "29807ccd",
   "metadata": {},
   "outputs": [
    {
     "name": "stdout",
     "output_type": "stream",
     "text": [
      "churn          0    1  Percentage Churn\n",
      "voice_plan                             \n",
      "no          3072  605         16.453631\n",
      "yes         1221  102          7.709751\n"
     ]
    }
   ],
   "source": [
    "#Calculate the Voice Mail Plan vs Churn percentage\n",
    "Voice_mail_plan_data = pd.crosstab(tele[\"voice_plan\"], tele[\"churn\"])\n",
    "Voice_mail_plan_data['Percentage Churn'] = Voice_mail_plan_data.apply(lambda x : x[1]*100/(x[0]+x[1]),axis = 1)\n",
    "print(Voice_mail_plan_data)"
   ]
  },
  {
   "cell_type": "markdown",
   "id": "4530c258",
   "metadata": {},
   "source": [
    "#### From the above data we get\n",
    "#### There are 4527 customers who dont have international plan and 473 customer have international plan.Among those who have intl plan 42% people churn\n",
    "#### There is no relation between voice mail plan and churn\n"
   ]
  },
  {
   "cell_type": "code",
   "execution_count": 47,
   "id": "cd0e4a64",
   "metadata": {},
   "outputs": [
    {
     "data": {
      "text/plain": [
       "48"
      ]
     },
     "execution_count": 47,
     "metadata": {},
     "output_type": "execute_result"
    }
   ],
   "source": [
    "#show the data of 'voice messages' \n",
    "tele['voice_messages'].nunique()"
   ]
  },
  {
   "cell_type": "code",
   "execution_count": 48,
   "id": "a77e0e98",
   "metadata": {},
   "outputs": [
    {
     "data": {
      "text/plain": [
       "count    5000.000000\n",
       "mean        7.755200\n",
       "std        13.546393\n",
       "min         0.000000\n",
       "25%         0.000000\n",
       "50%         0.000000\n",
       "75%        17.000000\n",
       "max        52.000000\n",
       "Name: voice_messages, dtype: float64"
      ]
     },
     "execution_count": 48,
     "metadata": {},
     "output_type": "execute_result"
    }
   ],
   "source": [
    "#Show the details of 'voice messages' data\n",
    "tele['voice_messages'].describe()"
   ]
  },
  {
   "cell_type": "code",
   "execution_count": 49,
   "id": "e987a974",
   "metadata": {},
   "outputs": [
    {
     "name": "stderr",
     "output_type": "stream",
     "text": [
      "C:\\Users\\HP\\AppData\\Roaming\\Python\\Python39\\site-packages\\seaborn\\distributions.py:2619: FutureWarning: `distplot` is a deprecated function and will be removed in a future version. Please adapt your code to use either `displot` (a figure-level function with similar flexibility) or `histplot` (an axes-level function for histograms).\n",
      "  warnings.warn(msg, FutureWarning)\n"
     ]
    },
    {
     "data": {
      "text/plain": [
       "<AxesSubplot:xlabel='voice_messages', ylabel='Density'>"
      ]
     },
     "execution_count": 49,
     "metadata": {},
     "output_type": "execute_result"
    },
    {
     "data": {
      "image/png": "[encoded data removed]",
      "text/plain": [
       "<Figure size 500x400 with 1 Axes>"
      ]
     },
     "metadata": {},
     "output_type": "display_data"
    }
   ],
   "source": [
    "#Analysing by using displot diagram\n",
    "plt.figure(figsize=[5,4])\n",
    "sns.distplot(tele['voice_messages'])"
   ]
  },
  {
   "cell_type": "markdown",
   "id": "2d2406a3",
   "metadata": {},
   "source": [
    "#### After analyzing the above voice message feature data we get an insight that when there are more than 15,then there is a churn"
   ]
  },
  {
   "cell_type": "code",
   "execution_count": 50,
   "id": "31301f0f",
   "metadata": {},
   "outputs": [
    {
     "data": {
      "text/plain": [
       "1    1786\n",
       "2    1127\n",
       "0    1023\n",
       "3     665\n",
       "4     252\n",
       "5      96\n",
       "6      34\n",
       "7      13\n",
       "9       2\n",
       "8       2\n",
       "Name: customer_calls, dtype: int64"
      ]
     },
     "execution_count": 50,
     "metadata": {},
     "output_type": "execute_result"
    }
   ],
   "source": [
    "#Printing the data of customer service calls \n",
    "tele['customer_calls'].value_counts()"
   ]
  },
  {
   "cell_type": "code",
   "execution_count": 51,
   "id": "02938653",
   "metadata": {},
   "outputs": [
    {
     "data": {
      "text/plain": [
       "<AxesSubplot:xlabel='customer_calls', ylabel='count'>"
      ]
     },
     "execution_count": 51,
     "metadata": {},
     "output_type": "execute_result"
    },
    {
     "data": {
      "image/png": "[encoded data removed]",
      "text/plain": [
       "<Figure size 800x300 with 1 Axes>"
      ]
     },
     "metadata": {},
     "output_type": "display_data"
    }
   ],
   "source": [
    "#Analysing using countplot\n",
    "plt.figure(figsize=[8,3])\n",
    "sns.countplot(x='customer_calls',hue=\"churn\",data = tele)"
   ]
  },
  {
   "cell_type": "code",
   "execution_count": 52,
   "id": "d4bffd2b",
   "metadata": {},
   "outputs": [
    {
     "name": "stdout",
     "output_type": "stream",
     "text": [
      "churn              0    1  Percentage_Churn\n",
      "customer_calls                             \n",
      "0                902  121         11.827957\n",
      "1               1596  190         10.638298\n",
      "2               1005  122         10.825200\n",
      "3                592   73         10.977444\n",
      "4                141  111         44.047619\n",
      "5                 38   58         60.416667\n",
      "6                 12   22         64.705882\n",
      "7                  6    7         53.846154\n",
      "8                  1    1         50.000000\n",
      "9                  0    2        100.000000\n"
     ]
    }
   ],
   "source": [
    "#Calculating the Customer calls vs Churn percentage\n",
    "Customer_calls = pd.crosstab(tele['customer_calls'],tele[\"churn\"])\n",
    "Customer_calls['Percentage_Churn'] = Customer_calls.apply(lambda x : x[1]*100/(x[0]+x[1]),axis = 1)\n",
    "print(Customer_calls)"
   ]
  },
  {
   "cell_type": "markdown",
   "id": "0be51b4d",
   "metadata": {},
   "source": [
    "#### ***The above data indicating that those customers who called the service center 5 times or above those customer churn percentage is higher than 60%, and customers who have called once also have a high churn rate indicating their issue was not solved in the first attempt.***"
   ]
  },
  {
   "cell_type": "code",
   "execution_count": 53,
   "id": "d5301acf",
   "metadata": {},
   "outputs": [
    {
     "name": "stdout",
     "output_type": "stream",
     "text": [
      "churn\n",
      "0     99.899604\n",
      "1    100.817539\n",
      "Name: day_calls, dtype: float64\n"
     ]
    }
   ],
   "source": [
    "#Print the mean value of churned and not churned customer \n",
    "print(tele.groupby([\"churn\"])['day_calls'].mean())"
   ]
  },
  {
   "cell_type": "code",
   "execution_count": 54,
   "id": "c5633352",
   "metadata": {},
   "outputs": [
    {
     "name": "stdout",
     "output_type": "stream",
     "text": [
      "churn\n",
      "0    175.746564\n",
      "1    207.870580\n",
      "Name: day_mins, dtype: float64\n"
     ]
    }
   ],
   "source": [
    "print(tele.groupby([\"churn\"])['day_mins'].mean())"
   ]
  },
  {
   "cell_type": "code",
   "execution_count": 55,
   "id": "3d973244",
   "metadata": {},
   "outputs": [
    {
     "name": "stdout",
     "output_type": "stream",
     "text": [
      "churn\n",
      "0    29.881958\n",
      "1    35.338416\n",
      "Name: day_charge, dtype: float64\n"
     ]
    }
   ],
   "source": [
    "print(tele.groupby([\"churn\"])['day_charge'].mean())"
   ]
  },
  {
   "cell_type": "code",
   "execution_count": 56,
   "id": "3727a0a2",
   "metadata": {},
   "outputs": [
    {
     "data": {
      "text/plain": [
       "<AxesSubplot:xlabel='day_mins', ylabel='day_charge'>"
      ]
     },
     "execution_count": 56,
     "metadata": {},
     "output_type": "execute_result"
    },
    {
     "data": {
      "image/png": "[encoded data removed]",
      "text/plain": [
       "<Figure size 600x500 with 1 Axes>"
      ]
     },
     "metadata": {},
     "output_type": "display_data"
    }
   ],
   "source": [
    "#show the relation using scatter plot\n",
    "plt.figure(figsize=[6,5])\n",
    "sns.scatterplot(x=\"day_mins\", y=\"day_charge\", hue=\"churn\", data=tele,palette='hls')"
   ]
  },
  {
   "cell_type": "markdown",
   "id": "03b7af97",
   "metadata": {},
   "source": [
    "#### Higher the day_charge,higher the day_mins,then higher the churn"
   ]
  },
  {
   "cell_type": "code",
   "execution_count": 57,
   "id": "1d6de426",
   "metadata": {},
   "outputs": [
    {
     "name": "stdout",
     "output_type": "stream",
     "text": [
      "churn\n",
      "0    100.241556\n",
      "1     99.884017\n",
      "Name: eve_calls, dtype: float64\n"
     ]
    }
   ],
   "source": [
    "#Print the mean value of churned and not churned customer \n",
    "print(tele.groupby([\"churn\"])['eve_calls'].mean())"
   ]
  },
  {
   "cell_type": "code",
   "execution_count": 58,
   "id": "d82e46b2",
   "metadata": {},
   "outputs": [
    {
     "name": "stdout",
     "output_type": "stream",
     "text": [
      "churn\n",
      "0    198.755292\n",
      "1    211.662179\n",
      "Name: eve_mins, dtype: float64\n"
     ]
    }
   ],
   "source": [
    "print(tele.groupby([\"churn\"])['eve_mins'].mean())"
   ]
  },
  {
   "cell_type": "code",
   "execution_count": 59,
   "id": "b384788d",
   "metadata": {},
   "outputs": [
    {
     "name": "stdout",
     "output_type": "stream",
     "text": [
      "churn\n",
      "0    16.898654\n",
      "1    17.999562\n",
      "Name: eve_charge, dtype: float64\n"
     ]
    }
   ],
   "source": [
    "print(tele.groupby([\"churn\"])['eve_charge'].mean())"
   ]
  },
  {
   "cell_type": "code",
   "execution_count": 60,
   "id": "83aa91c5",
   "metadata": {},
   "outputs": [
    {
     "data": {
      "text/plain": [
       "<AxesSubplot:xlabel='eve_mins', ylabel='eve_charge'>"
      ]
     },
     "execution_count": 60,
     "metadata": {},
     "output_type": "execute_result"
    },
    {
     "data": {
      "image/png": "[encoded data removed]",
      "text/plain": [
       "<Figure size 600x500 with 1 Axes>"
      ]
     },
     "metadata": {},
     "output_type": "display_data"
    }
   ],
   "source": [
    "#show the relation using scatter plot\n",
    "plt.figure(figsize=[6,5])\n",
    "sns.scatterplot(x=\"eve_mins\", y=\"eve_charge\", hue=\"churn\", data=tele,palette='hls')"
   ]
  },
  {
   "cell_type": "code",
   "execution_count": 61,
   "id": "c55cf742",
   "metadata": {},
   "outputs": [],
   "source": [
    "#### no relation between eve charge and mins,and the model is also not good"
   ]
  },
  {
   "cell_type": "code",
   "execution_count": 62,
   "id": "f706e781",
   "metadata": {},
   "outputs": [
    {
     "name": "stdout",
     "output_type": "stream",
     "text": [
      "churn\n",
      "0    99.975775\n",
      "1    99.575672\n",
      "Name: night_calls, dtype: float64\n"
     ]
    }
   ],
   "source": [
    "#Print the mean value of churned and not churned customer \n",
    "print(tele.groupby([\"churn\"])['night_calls'].mean())"
   ]
  },
  {
   "cell_type": "code",
   "execution_count": 63,
   "id": "9d161f81",
   "metadata": {},
   "outputs": [
    {
     "name": "stdout",
     "output_type": "stream",
     "text": [
      "churn\n",
      "0    199.455113\n",
      "1    206.078218\n",
      "Name: night_mins, dtype: float64\n"
     ]
    }
   ],
   "source": [
    "print(tele.groupby([\"churn\"])['night_mins'].mean())"
   ]
  },
  {
   "cell_type": "code",
   "execution_count": 64,
   "id": "fa5cb1f5",
   "metadata": {},
   "outputs": [
    {
     "name": "stdout",
     "output_type": "stream",
     "text": [
      "churn\n",
      "0    8.975593\n",
      "1    9.273607\n",
      "Name: night_charge, dtype: float64\n"
     ]
    }
   ],
   "source": [
    "print(tele.groupby([\"churn\"])['night_charge'].mean())"
   ]
  },
  {
   "cell_type": "code",
   "execution_count": 65,
   "id": "ad5e5fdd",
   "metadata": {},
   "outputs": [
    {
     "data": {
      "text/plain": [
       "<AxesSubplot:xlabel='night_mins', ylabel='night_charge'>"
      ]
     },
     "execution_count": 65,
     "metadata": {},
     "output_type": "execute_result"
    },
    {
     "data": {
      "image/png": "[encoded data removed]",
      "text/plain": [
       "<Figure size 600x500 with 1 Axes>"
      ]
     },
     "metadata": {},
     "output_type": "display_data"
    }
   ],
   "source": [
    "#show the relation using scatter plot\n",
    "plt.figure(figsize=[6,5])\n",
    "sns.scatterplot(x=\"night_mins\", y=\"night_charge\", hue=\"churn\", data=tele,palette='hls')"
   ]
  },
  {
   "cell_type": "code",
   "execution_count": 66,
   "id": "afc65dc6",
   "metadata": {},
   "outputs": [],
   "source": [
    "#### no relation between night charge and mins."
   ]
  },
  {
   "cell_type": "code",
   "execution_count": 67,
   "id": "447f14f6",
   "metadata": {},
   "outputs": [
    {
     "name": "stdout",
     "output_type": "stream",
     "text": [
      "churn\n",
      "0    10.190869\n",
      "1    10.692362\n",
      "Name: intl_mins, dtype: float64\n"
     ]
    }
   ],
   "source": [
    "#Print the mean value of churned and not churned customer \n",
    "print(tele.groupby([\"churn\"])['intl_mins'].mean())"
   ]
  },
  {
   "cell_type": "code",
   "execution_count": 68,
   "id": "ecee3cf9",
   "metadata": {},
   "outputs": [
    {
     "name": "stdout",
     "output_type": "stream",
     "text": [
      "churn\n",
      "0    4.481947\n",
      "1    4.151344\n",
      "Name: intl_calls, dtype: float64\n"
     ]
    }
   ],
   "source": [
    "print(tele.groupby([\"churn\"])['intl_calls'].mean())"
   ]
  },
  {
   "cell_type": "code",
   "execution_count": 69,
   "id": "dae30f38",
   "metadata": {},
   "outputs": [
    {
     "name": "stdout",
     "output_type": "stream",
     "text": [
      "churn\n",
      "0    2.752055\n",
      "1    2.887426\n",
      "Name: intl_charge, dtype: float64\n"
     ]
    }
   ],
   "source": [
    "print(tele.groupby([\"churn\"])['intl_charge'].mean())"
   ]
  },
  {
   "cell_type": "code",
   "execution_count": 70,
   "id": "36a63383",
   "metadata": {},
   "outputs": [
    {
     "data": {
      "text/plain": [
       "<AxesSubplot:xlabel='intl_mins', ylabel='intl_charge'>"
      ]
     },
     "execution_count": 70,
     "metadata": {},
     "output_type": "execute_result"
    },
    {
     "data": {
      "image/png": "[encoded data removed]",
      "text/plain": [
       "<Figure size 600x500 with 1 Axes>"
      ]
     },
     "metadata": {},
     "output_type": "display_data"
    }
   ],
   "source": [
    "#show the relation using scatter plot\n",
    "plt.figure(figsize=[6,5])\n",
    "sns.scatterplot(x=\"intl_mins\", y=\"intl_charge\", hue=\"churn\", data=tele,palette='hls')"
   ]
  },
  {
   "cell_type": "code",
   "execution_count": 71,
   "id": "f3b669eb",
   "metadata": {},
   "outputs": [],
   "source": [
    "#### Higher the intl mins,higher the charge also,so churn is high"
   ]
  },
  {
   "cell_type": "code",
   "execution_count": 72,
   "id": "56dc8d65",
   "metadata": {},
   "outputs": [],
   "source": [
    "#Deriving a relation between overall call charge and overall call minutes   \n",
    "day_charge = tele['day_charge'].mean()/tele['day_mins'].mean()\n",
    "eve_charge = tele['eve_charge'].mean()/tele['eve_mins'].mean()\n",
    "night_charge = tele['night_charge'].mean()/tele['night_mins'].mean()\n",
    "int_charge = tele['intl_charge'].mean()/tele['intl_mins'].mean()"
   ]
  },
  {
   "cell_type": "code",
   "execution_count": 73,
   "id": "49052d3a",
   "metadata": {},
   "outputs": [
    {
     "name": "stdout",
     "output_type": "stream",
     "text": [
      "[0.17002433816647483, 0.08502489938709794, 0.04500054443394389, 0.27005022520459415]\n"
     ]
    }
   ],
   "source": [
    "print([day_charge,eve_charge,night_charge,int_charge])"
   ]
  },
  {
   "cell_type": "code",
   "execution_count": 74,
   "id": "a3d5602e",
   "metadata": {},
   "outputs": [
    {
     "data": {
      "text/plain": [
       "<AxesSubplot:>"
      ]
     },
     "execution_count": 74,
     "metadata": {},
     "output_type": "execute_result"
    },
    {
     "data": {
      "image/png": "[encoded data removed]",
      "text/plain": [
       "<Figure size 500x500 with 1 Axes>"
      ]
     },
     "metadata": {},
     "output_type": "display_data"
    }
   ],
   "source": [
    "plt.figure(figsize=[5,5])\n",
    "sns.barplot(x=['day','Eve','night','intl'],y=[day_charge, eve_charge, night_charge, int_charge])"
   ]
  },
  {
   "cell_type": "markdown",
   "id": "52117025",
   "metadata": {},
   "source": [
    "### **CONCLUSION:**\n",
    "\n",
    "### ***After performing exploratory data analysis on the data set, this is what we have incurred from data:***\n",
    "### * ***There are some states where the churn rate is high as compared to others may be due to low network coverage.***\n",
    "### ****Area code and Account length do not play any kind of role regarding the churn rate so,it's redundant data columns***\n",
    "### ****In the International plan those customers who have this plan are churn more and also the international calling charges are also high so the customer who has the plan unsatisfied with network issues and high call charge***\n",
    "### ****IN the voice mail section when there are more than 20 voice messages then there is a churn so it basically means that the quality of voice message is not good***.\n",
    "### ****In Customer  calls data shows us that whenever an unsatisfied customer called the service center the churn rate is high, which means the service center didn't resolve the customer issue.***"
   ]
  },
  {
   "cell_type": "code",
   "execution_count": null,
   "id": "80dc00a4",
   "metadata": {},
   "outputs": [],
   "source": []
  }
 ],
 "metadata": {
  "kernelspec": {
   "display_name": "Python 3 (ipykernel)",
   "language": "python",
   "name": "python3"
  },
  "language_info": {
   "codemirror_mode": {
    "name": "ipython",
    "version": 3
   },
   "file_extension": ".py",
   "mimetype": "text/x-python",
   "name": "python",
   "nbconvert_exporter": "python",
   "pygments_lexer": "ipython3",
   "version": "3.9.6"
  }
 },
 "nbformat": 4,
 "nbformat_minor": 5
}
